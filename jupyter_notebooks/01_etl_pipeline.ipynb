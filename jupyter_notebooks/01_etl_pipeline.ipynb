{
  "cells": [
    {
      "cell_type": "markdown",
      "metadata": {
        "id": "0aStgWSO0E0E"
      },
      "source": [
        "# **Energy Consumption & CO2 Emissions Analysis**"
      ]
    },
    {
      "cell_type": "markdown",
      "metadata": {},
      "source": [
        "## Project Overview"
      ]
    },
    {
      "cell_type": "markdown",
      "metadata": {},
      "source": [
        "This notebook demonstrates the complete data analytics workflow for analysing global energy consumption patterns and their relationship with CO2 emissions. We'll explore data from multiple countries across different energy types (coal, natural gas, petroleum, nuclear, renewables) and examine their environmental impact.\n",
        "\n",
        "## Objectives\n",
        "\n",
        "1. Analyze global energy consumption patterns and CO2 emissions (1980-2020)\n",
        "2. Investigate relationships between GDP, population, and energy consumption\n",
        "3. Identify trends in renewable vs non-renewable energy adoption\n",
        "4. Test hypotheses about economic and demographic factors affecting emissions\n",
        "5. Build predictive models for energy consumption and emissions\n",
        "6. Create an interactive dashboard for data exploration and insights\n",
        "\n",
        "**AI Assistant Integration:**\n",
        "Throughout this notebook, we'll use AI-powered insights to:\n",
        "- Generate data quality reports\n",
        "- Suggest optimal data cleaning strategies\n",
        "- Provide contextual explanations of findings"
      ]
    },
    {
      "cell_type": "markdown",
      "metadata": {},
      "source": [
        "## About Dataset\n",
        "\n",
        "The world is becoming more modernized by the year, and with this becoming all the more polluted.\n",
        "\n",
        "This data was pulled from the US Energy Administration and joined together for an easier analysis. Its a collection of some big factors that play into C02 Emissions, with everything from the Production and Consumption of each type of major energy source for each country and its pollution rating each year. It also includes each countries GDP, Population, Energy intensity per capita (person), and Energy intensity per GDP (per person GDP). All the data spans all the way from the 1980's to 2020. \n",
        "\n",
        "### Feature Descriptions:\n",
        "* **Country** - Country in question\n",
        "* **Energy_type** - Type of energy source\n",
        "* **Year** - Year the data was recorded\n",
        "* **Energy_consumption** - Amount of Consumption for the specific energy source, measured (quad Btu)\n",
        "* **Energy_production** - Amount of Production for the specific energy source, measured (quad Btu)\n",
        "* **GDP** - Countries GDP at purchasing power parities, measured (Billion 2015$ PPP)\n",
        "* **Population** - Population of specific Country, measured (Mperson)\n",
        "* **Energy_intensity_per_capita** - Energy intensity is a measure of the energy inefficiency of an economy. It is calculated as units of energy per unit of capita (capita = individual person), measured (MMBtu/person)\n",
        "* **Energy_intensity_by_GDP**- Energy intensity is a measure of the energy inefficiency of an economy. It is calculated as units of energy per unit of GDP, measred (1000 Btu/2015$ GDP PPP)\n",
        "* **CO2_emission** - The amount of C02 emitted, measured (MMtonnes CO2)\n",
        "\n",
        "## Inputs\n",
        "\n",
        "* Data source: https://www.kaggle.com/datasets/lobosi/c02-emission-by-countrys-grouth-and-population\n",
        "\n",
        "## Outputs\n",
        "\n",
        "* Cleaned dataset to use in the next step."
      ]
    },
    {
      "cell_type": "markdown",
      "metadata": {
        "id": "9uWZXH9LwoQg"
      },
      "source": [
        "---"
      ]
    },
    {
      "cell_type": "markdown",
      "metadata": {
        "id": "cqP-UeN-z3i2"
      },
      "source": [
        "# Change working directory"
      ]
    },
    {
      "cell_type": "markdown",
      "metadata": {},
      "source": [
        "* We are assuming you will store the notebooks in a subfolder, therefore when running the notebook in the editor, you will need to change the working directory"
      ]
    },
    {
      "cell_type": "markdown",
      "metadata": {
        "id": "aOGIGS-uz3i2"
      },
      "source": [
        "We need to change the working directory from its current folder to its parent folder\n",
        "* We access the current directory with os.getcwd()"
      ]
    },
    {
      "cell_type": "code",
      "execution_count": 1,
      "metadata": {
        "id": "wZfF_j-Bz3i4",
        "outputId": "66943449-1436-4c3d-85c7-b85f9f78349b"
      },
      "outputs": [
        {
          "data": {
            "text/plain": [
              "'d:\\\\Code Institute\\\\Energy-Consumption-CO2-Emissions-Analysis\\\\jupyter_notebooks'"
            ]
          },
          "execution_count": 1,
          "metadata": {},
          "output_type": "execute_result"
        }
      ],
      "source": [
        "import os\n",
        "current_dir = os.getcwd()\n",
        "current_dir"
      ]
    },
    {
      "cell_type": "markdown",
      "metadata": {
        "id": "9MWW8E7lz3i7"
      },
      "source": [
        "We want to make the parent of the current directory the new current directory\n",
        "* os.path.dirname() gets the parent directory\n",
        "* os.chir() defines the new current directory"
      ]
    },
    {
      "cell_type": "code",
      "execution_count": 2,
      "metadata": {
        "id": "TwHsQRWjz3i9",
        "outputId": "86849db3-cd2f-4cc5-ebb8-2d0caafa1a2c"
      },
      "outputs": [
        {
          "name": "stdout",
          "output_type": "stream",
          "text": [
            "You set a new current directory\n"
          ]
        }
      ],
      "source": [
        "os.chdir(os.path.dirname(current_dir))\n",
        "print(\"You set a new current directory\")"
      ]
    },
    {
      "cell_type": "markdown",
      "metadata": {
        "id": "M_xPk_Ijz3i-"
      },
      "source": [
        "Confirm the new current directory"
      ]
    },
    {
      "cell_type": "code",
      "execution_count": 3,
      "metadata": {
        "id": "vz3S-_kjz3jA",
        "outputId": "00b79ae4-75d0-4a96-d193-ac9ef9847ea2"
      },
      "outputs": [
        {
          "data": {
            "text/plain": [
              "'d:\\\\Code Institute\\\\Energy-Consumption-CO2-Emissions-Analysis'"
            ]
          },
          "execution_count": 3,
          "metadata": {},
          "output_type": "execute_result"
        }
      ],
      "source": [
        "current_dir = os.getcwd()\n",
        "current_dir"
      ]
    },
    {
      "cell_type": "code",
      "execution_count": 4,
      "metadata": {},
      "outputs": [
        {
          "data": {
            "text/plain": [
              "'d:\\\\Code Institute\\\\Energy-Consumption-CO2-Emissions-Analysis\\\\dataset\\\\raw\\\\energy.csv'"
            ]
          },
          "execution_count": 4,
          "metadata": {},
          "output_type": "execute_result"
        }
      ],
      "source": [
        "input_file_path = current_dir+'\\\\dataset\\\\raw\\\\energy.csv'\n",
        "input_file_path"
      ]
    },
    {
      "cell_type": "markdown",
      "metadata": {},
      "source": [
        "## Data Extraction"
      ]
    },
    {
      "cell_type": "markdown",
      "metadata": {},
      "source": [
        "Import Packages"
      ]
    },
    {
      "cell_type": "code",
      "execution_count": 17,
      "metadata": {},
      "outputs": [],
      "source": [
        "import numpy as np\n",
        "import pandas as pd\n",
        "import matplotlib.pyplot as plt\n",
        "import seaborn as sns\n",
        "from datetime import datetime\n",
        "import warnings\n",
        "warnings.filterwarnings('ignore')\n",
        "\n",
        "# Set display options\n",
        "pd.set_option('display.max_columns', None)\n",
        "pd.set_option('display.max_rows', 100)\n",
        "pd.set_option('display.float_format', lambda x: '%.3f' % x)"
      ]
    },
    {
      "cell_type": "markdown",
      "metadata": {},
      "source": [
        "Load the dataset\n",
        "\n",
        "We'll load the energy consumption dataset from a CSV file. This dataset contains:\n",
        "- Country information\n",
        "- Energy type (coal, natural gas, petroleum, nuclear, renewables)\n",
        "- Year (time series data)\n",
        "- Energy consumption and production metrics\n",
        "- GDP and population data\n",
        "- Energy intensity per capita and by GDP\n",
        "- CO2 emissions"
      ]
    },
    {
      "cell_type": "code",
      "execution_count": 6,
      "metadata": {},
      "outputs": [
        {
          "data": {
            "text/html": [
              "<div>\n",
              "<style scoped>\n",
              "    .dataframe tbody tr th:only-of-type {\n",
              "        vertical-align: middle;\n",
              "    }\n",
              "\n",
              "    .dataframe tbody tr th {\n",
              "        vertical-align: top;\n",
              "    }\n",
              "\n",
              "    .dataframe thead th {\n",
              "        text-align: right;\n",
              "    }\n",
              "</style>\n",
              "<table border=\"1\" class=\"dataframe\">\n",
              "  <thead>\n",
              "    <tr style=\"text-align: right;\">\n",
              "      <th></th>\n",
              "      <th>Unnamed: 0</th>\n",
              "      <th>Country</th>\n",
              "      <th>Energy_type</th>\n",
              "      <th>Year</th>\n",
              "      <th>Energy_consumption</th>\n",
              "      <th>Energy_production</th>\n",
              "      <th>GDP</th>\n",
              "      <th>Population</th>\n",
              "      <th>Energy_intensity_per_capita</th>\n",
              "      <th>Energy_intensity_by_GDP</th>\n",
              "      <th>CO2_emission</th>\n",
              "    </tr>\n",
              "  </thead>\n",
              "  <tbody>\n",
              "    <tr>\n",
              "      <th>0</th>\n",
              "      <td>0</td>\n",
              "      <td>World</td>\n",
              "      <td>all_energy_types</td>\n",
              "      <td>1980</td>\n",
              "      <td>292.899790</td>\n",
              "      <td>296.337228</td>\n",
              "      <td>27770.910281</td>\n",
              "      <td>4.298127e+06</td>\n",
              "      <td>68.145921</td>\n",
              "      <td>10.547000</td>\n",
              "      <td>4946.627130</td>\n",
              "    </tr>\n",
              "    <tr>\n",
              "      <th>1</th>\n",
              "      <td>1</td>\n",
              "      <td>World</td>\n",
              "      <td>coal</td>\n",
              "      <td>1980</td>\n",
              "      <td>78.656134</td>\n",
              "      <td>80.114194</td>\n",
              "      <td>27770.910281</td>\n",
              "      <td>4.298127e+06</td>\n",
              "      <td>68.145921</td>\n",
              "      <td>10.547000</td>\n",
              "      <td>1409.790188</td>\n",
              "    </tr>\n",
              "    <tr>\n",
              "      <th>2</th>\n",
              "      <td>2</td>\n",
              "      <td>World</td>\n",
              "      <td>natural_gas</td>\n",
              "      <td>1980</td>\n",
              "      <td>53.865223</td>\n",
              "      <td>54.761046</td>\n",
              "      <td>27770.910281</td>\n",
              "      <td>4.298127e+06</td>\n",
              "      <td>68.145921</td>\n",
              "      <td>10.547000</td>\n",
              "      <td>1081.593377</td>\n",
              "    </tr>\n",
              "    <tr>\n",
              "      <th>3</th>\n",
              "      <td>3</td>\n",
              "      <td>World</td>\n",
              "      <td>petroleum_n_other_liquids</td>\n",
              "      <td>1980</td>\n",
              "      <td>132.064019</td>\n",
              "      <td>133.111109</td>\n",
              "      <td>27770.910281</td>\n",
              "      <td>4.298127e+06</td>\n",
              "      <td>68.145921</td>\n",
              "      <td>10.547000</td>\n",
              "      <td>2455.243565</td>\n",
              "    </tr>\n",
              "    <tr>\n",
              "      <th>4</th>\n",
              "      <td>4</td>\n",
              "      <td>World</td>\n",
              "      <td>nuclear</td>\n",
              "      <td>1980</td>\n",
              "      <td>7.575700</td>\n",
              "      <td>7.575700</td>\n",
              "      <td>27770.910281</td>\n",
              "      <td>4.298127e+06</td>\n",
              "      <td>68.145921</td>\n",
              "      <td>10.547000</td>\n",
              "      <td>0.000000</td>\n",
              "    </tr>\n",
              "    <tr>\n",
              "      <th>...</th>\n",
              "      <td>...</td>\n",
              "      <td>...</td>\n",
              "      <td>...</td>\n",
              "      <td>...</td>\n",
              "      <td>...</td>\n",
              "      <td>...</td>\n",
              "      <td>...</td>\n",
              "      <td>...</td>\n",
              "      <td>...</td>\n",
              "      <td>...</td>\n",
              "      <td>...</td>\n",
              "    </tr>\n",
              "    <tr>\n",
              "      <th>55435</th>\n",
              "      <td>55435</td>\n",
              "      <td>Zimbabwe</td>\n",
              "      <td>coal</td>\n",
              "      <td>2019</td>\n",
              "      <td>0.045064</td>\n",
              "      <td>0.075963</td>\n",
              "      <td>37.620400</td>\n",
              "      <td>1.465420e+04</td>\n",
              "      <td>11.508701</td>\n",
              "      <td>4.482962</td>\n",
              "      <td>4.586869</td>\n",
              "    </tr>\n",
              "    <tr>\n",
              "      <th>55436</th>\n",
              "      <td>55436</td>\n",
              "      <td>Zimbabwe</td>\n",
              "      <td>natural_gas</td>\n",
              "      <td>2019</td>\n",
              "      <td>0.000000</td>\n",
              "      <td>0.000000</td>\n",
              "      <td>37.620400</td>\n",
              "      <td>1.465420e+04</td>\n",
              "      <td>11.508701</td>\n",
              "      <td>4.482962</td>\n",
              "      <td>0.000000</td>\n",
              "    </tr>\n",
              "    <tr>\n",
              "      <th>55437</th>\n",
              "      <td>55437</td>\n",
              "      <td>Zimbabwe</td>\n",
              "      <td>petroleum_n_other_liquids</td>\n",
              "      <td>2019</td>\n",
              "      <td>0.055498</td>\n",
              "      <td>0.000000</td>\n",
              "      <td>37.620400</td>\n",
              "      <td>1.465420e+04</td>\n",
              "      <td>11.508701</td>\n",
              "      <td>4.482962</td>\n",
              "      <td>4.377890</td>\n",
              "    </tr>\n",
              "    <tr>\n",
              "      <th>55438</th>\n",
              "      <td>55438</td>\n",
              "      <td>Zimbabwe</td>\n",
              "      <td>nuclear</td>\n",
              "      <td>2019</td>\n",
              "      <td>NaN</td>\n",
              "      <td>NaN</td>\n",
              "      <td>37.620400</td>\n",
              "      <td>1.465420e+04</td>\n",
              "      <td>11.508701</td>\n",
              "      <td>4.482962</td>\n",
              "      <td>0.000000</td>\n",
              "    </tr>\n",
              "    <tr>\n",
              "      <th>55439</th>\n",
              "      <td>55439</td>\n",
              "      <td>Zimbabwe</td>\n",
              "      <td>renewables_n_other</td>\n",
              "      <td>2019</td>\n",
              "      <td>0.068089</td>\n",
              "      <td>0.067499</td>\n",
              "      <td>37.620400</td>\n",
              "      <td>1.465420e+04</td>\n",
              "      <td>11.508701</td>\n",
              "      <td>4.482962</td>\n",
              "      <td>0.000000</td>\n",
              "    </tr>\n",
              "  </tbody>\n",
              "</table>\n",
              "<p>55440 rows × 11 columns</p>\n",
              "</div>"
            ],
            "text/plain": [
              "       Unnamed: 0   Country                Energy_type  Year  \\\n",
              "0               0     World           all_energy_types  1980   \n",
              "1               1     World                       coal  1980   \n",
              "2               2     World                natural_gas  1980   \n",
              "3               3     World  petroleum_n_other_liquids  1980   \n",
              "4               4     World                    nuclear  1980   \n",
              "...           ...       ...                        ...   ...   \n",
              "55435       55435  Zimbabwe                       coal  2019   \n",
              "55436       55436  Zimbabwe                natural_gas  2019   \n",
              "55437       55437  Zimbabwe  petroleum_n_other_liquids  2019   \n",
              "55438       55438  Zimbabwe                    nuclear  2019   \n",
              "55439       55439  Zimbabwe         renewables_n_other  2019   \n",
              "\n",
              "       Energy_consumption  Energy_production           GDP    Population  \\\n",
              "0              292.899790         296.337228  27770.910281  4.298127e+06   \n",
              "1               78.656134          80.114194  27770.910281  4.298127e+06   \n",
              "2               53.865223          54.761046  27770.910281  4.298127e+06   \n",
              "3              132.064019         133.111109  27770.910281  4.298127e+06   \n",
              "4                7.575700           7.575700  27770.910281  4.298127e+06   \n",
              "...                   ...                ...           ...           ...   \n",
              "55435            0.045064           0.075963     37.620400  1.465420e+04   \n",
              "55436            0.000000           0.000000     37.620400  1.465420e+04   \n",
              "55437            0.055498           0.000000     37.620400  1.465420e+04   \n",
              "55438                 NaN                NaN     37.620400  1.465420e+04   \n",
              "55439            0.068089           0.067499     37.620400  1.465420e+04   \n",
              "\n",
              "       Energy_intensity_per_capita  Energy_intensity_by_GDP  CO2_emission  \n",
              "0                        68.145921                10.547000   4946.627130  \n",
              "1                        68.145921                10.547000   1409.790188  \n",
              "2                        68.145921                10.547000   1081.593377  \n",
              "3                        68.145921                10.547000   2455.243565  \n",
              "4                        68.145921                10.547000      0.000000  \n",
              "...                            ...                      ...           ...  \n",
              "55435                    11.508701                 4.482962      4.586869  \n",
              "55436                    11.508701                 4.482962      0.000000  \n",
              "55437                    11.508701                 4.482962      4.377890  \n",
              "55438                    11.508701                 4.482962      0.000000  \n",
              "55439                    11.508701                 4.482962      0.000000  \n",
              "\n",
              "[55440 rows x 11 columns]"
            ]
          },
          "execution_count": 6,
          "metadata": {},
          "output_type": "execute_result"
        }
      ],
      "source": [
        "# Load the dataset\n",
        "df = pd.read_csv(input_file_path)\n",
        "# Preview the first few rows\n",
        "df"
      ]
    },
    {
      "cell_type": "markdown",
      "metadata": {},
      "source": [
        "---"
      ]
    },
    {
      "cell_type": "markdown",
      "metadata": {},
      "source": [
        "## Initial Data Exploration\n",
        "\n",
        "Let's understand the structure and characteristics of our dataset."
      ]
    },
    {
      "cell_type": "code",
      "execution_count": 7,
      "metadata": {},
      "outputs": [
        {
          "name": "stdout",
          "output_type": "stream",
          "text": [
            "<class 'pandas.core.frame.DataFrame'>\n",
            "RangeIndex: 55440 entries, 0 to 55439\n",
            "Data columns (total 11 columns):\n",
            " #   Column                       Non-Null Count  Dtype  \n",
            "---  ------                       --------------  -----  \n",
            " 0   Unnamed: 0                   55440 non-null  int64  \n",
            " 1   Country                      55440 non-null  object \n",
            " 2   Energy_type                  55440 non-null  object \n",
            " 3   Year                         55440 non-null  int64  \n",
            " 4   Energy_consumption           44287 non-null  float64\n",
            " 5   Energy_production            44289 non-null  float64\n",
            " 6   GDP                          40026 non-null  float64\n",
            " 7   Population                   46014 non-null  float64\n",
            " 8   Energy_intensity_per_capita  50358 non-null  float64\n",
            " 9   Energy_intensity_by_GDP      50358 non-null  float64\n",
            " 10  CO2_emission                 51614 non-null  float64\n",
            "dtypes: float64(7), int64(2), object(2)\n",
            "memory usage: 4.7+ MB\n"
          ]
        }
      ],
      "source": [
        "df.info()"
      ]
    },
    {
      "cell_type": "markdown",
      "metadata": {},
      "source": [
        "Statistical summary"
      ]
    },
    {
      "cell_type": "code",
      "execution_count": 8,
      "metadata": {},
      "outputs": [
        {
          "data": {
            "text/html": [
              "<div>\n",
              "<style scoped>\n",
              "    .dataframe tbody tr th:only-of-type {\n",
              "        vertical-align: middle;\n",
              "    }\n",
              "\n",
              "    .dataframe tbody tr th {\n",
              "        vertical-align: top;\n",
              "    }\n",
              "\n",
              "    .dataframe thead th {\n",
              "        text-align: right;\n",
              "    }\n",
              "</style>\n",
              "<table border=\"1\" class=\"dataframe\">\n",
              "  <thead>\n",
              "    <tr style=\"text-align: right;\">\n",
              "      <th></th>\n",
              "      <th>Unnamed: 0</th>\n",
              "      <th>Year</th>\n",
              "      <th>Energy_consumption</th>\n",
              "      <th>Energy_production</th>\n",
              "      <th>GDP</th>\n",
              "      <th>Population</th>\n",
              "      <th>Energy_intensity_per_capita</th>\n",
              "      <th>Energy_intensity_by_GDP</th>\n",
              "      <th>CO2_emission</th>\n",
              "    </tr>\n",
              "  </thead>\n",
              "  <tbody>\n",
              "    <tr>\n",
              "      <th>count</th>\n",
              "      <td>55440.000000</td>\n",
              "      <td>55440.0000</td>\n",
              "      <td>44287.000000</td>\n",
              "      <td>4.428900e+04</td>\n",
              "      <td>40026.000000</td>\n",
              "      <td>4.601400e+04</td>\n",
              "      <td>50358.000000</td>\n",
              "      <td>50358.000000</td>\n",
              "      <td>51614.000000</td>\n",
              "    </tr>\n",
              "    <tr>\n",
              "      <th>mean</th>\n",
              "      <td>27719.500000</td>\n",
              "      <td>1999.5000</td>\n",
              "      <td>1.537811</td>\n",
              "      <td>1.532700e+00</td>\n",
              "      <td>827.144126</td>\n",
              "      <td>6.263020e+04</td>\n",
              "      <td>71.898914</td>\n",
              "      <td>3.695104</td>\n",
              "      <td>78.800082</td>\n",
              "    </tr>\n",
              "    <tr>\n",
              "      <th>std</th>\n",
              "      <td>16004.293799</td>\n",
              "      <td>11.5435</td>\n",
              "      <td>15.456596</td>\n",
              "      <td>1.530356e+01</td>\n",
              "      <td>5981.703144</td>\n",
              "      <td>4.562088e+05</td>\n",
              "      <td>113.728738</td>\n",
              "      <td>4.590735</td>\n",
              "      <td>902.221463</td>\n",
              "    </tr>\n",
              "    <tr>\n",
              "      <th>min</th>\n",
              "      <td>0.000000</td>\n",
              "      <td>1980.0000</td>\n",
              "      <td>-0.163438</td>\n",
              "      <td>-1.000000e-39</td>\n",
              "      <td>0.124958</td>\n",
              "      <td>1.147100e+01</td>\n",
              "      <td>0.000000</td>\n",
              "      <td>0.000000</td>\n",
              "      <td>-0.005130</td>\n",
              "    </tr>\n",
              "    <tr>\n",
              "      <th>25%</th>\n",
              "      <td>13859.750000</td>\n",
              "      <td>1989.7500</td>\n",
              "      <td>0.000000</td>\n",
              "      <td>0.000000e+00</td>\n",
              "      <td>9.737780</td>\n",
              "      <td>1.141950e+03</td>\n",
              "      <td>3.799939</td>\n",
              "      <td>0.899446</td>\n",
              "      <td>0.000000</td>\n",
              "    </tr>\n",
              "    <tr>\n",
              "      <th>50%</th>\n",
              "      <td>27719.500000</td>\n",
              "      <td>1999.5000</td>\n",
              "      <td>0.018381</td>\n",
              "      <td>5.121971e-04</td>\n",
              "      <td>47.757100</td>\n",
              "      <td>6.157680e+03</td>\n",
              "      <td>29.779260</td>\n",
              "      <td>2.987593</td>\n",
              "      <td>0.000000</td>\n",
              "    </tr>\n",
              "    <tr>\n",
              "      <th>75%</th>\n",
              "      <td>41579.250000</td>\n",
              "      <td>2009.2500</td>\n",
              "      <td>0.209422</td>\n",
              "      <td>1.125410e-01</td>\n",
              "      <td>263.687100</td>\n",
              "      <td>2.004290e+04</td>\n",
              "      <td>95.523627</td>\n",
              "      <td>4.969454</td>\n",
              "      <td>4.318822</td>\n",
              "    </tr>\n",
              "    <tr>\n",
              "      <th>max</th>\n",
              "      <td>55439.000000</td>\n",
              "      <td>2019.0000</td>\n",
              "      <td>601.040490</td>\n",
              "      <td>6.115090e+02</td>\n",
              "      <td>127690.247059</td>\n",
              "      <td>7.714631e+06</td>\n",
              "      <td>1139.320598</td>\n",
              "      <td>166.913605</td>\n",
              "      <td>35584.933498</td>\n",
              "    </tr>\n",
              "  </tbody>\n",
              "</table>\n",
              "</div>"
            ],
            "text/plain": [
              "         Unnamed: 0        Year  Energy_consumption  Energy_production  \\\n",
              "count  55440.000000  55440.0000        44287.000000       4.428900e+04   \n",
              "mean   27719.500000   1999.5000            1.537811       1.532700e+00   \n",
              "std    16004.293799     11.5435           15.456596       1.530356e+01   \n",
              "min        0.000000   1980.0000           -0.163438      -1.000000e-39   \n",
              "25%    13859.750000   1989.7500            0.000000       0.000000e+00   \n",
              "50%    27719.500000   1999.5000            0.018381       5.121971e-04   \n",
              "75%    41579.250000   2009.2500            0.209422       1.125410e-01   \n",
              "max    55439.000000   2019.0000          601.040490       6.115090e+02   \n",
              "\n",
              "                 GDP    Population  Energy_intensity_per_capita  \\\n",
              "count   40026.000000  4.601400e+04                 50358.000000   \n",
              "mean      827.144126  6.263020e+04                    71.898914   \n",
              "std      5981.703144  4.562088e+05                   113.728738   \n",
              "min         0.124958  1.147100e+01                     0.000000   \n",
              "25%         9.737780  1.141950e+03                     3.799939   \n",
              "50%        47.757100  6.157680e+03                    29.779260   \n",
              "75%       263.687100  2.004290e+04                    95.523627   \n",
              "max    127690.247059  7.714631e+06                  1139.320598   \n",
              "\n",
              "       Energy_intensity_by_GDP  CO2_emission  \n",
              "count             50358.000000  51614.000000  \n",
              "mean                  3.695104     78.800082  \n",
              "std                   4.590735    902.221463  \n",
              "min                   0.000000     -0.005130  \n",
              "25%                   0.899446      0.000000  \n",
              "50%                   2.987593      0.000000  \n",
              "75%                   4.969454      4.318822  \n",
              "max                 166.913605  35584.933498  "
            ]
          },
          "execution_count": 8,
          "metadata": {},
          "output_type": "execute_result"
        }
      ],
      "source": [
        "df.describe()"
      ]
    },
    {
      "cell_type": "markdown",
      "metadata": {},
      "source": [
        "Check unique values in categorical columns"
      ]
    },
    {
      "cell_type": "code",
      "execution_count": 9,
      "metadata": {},
      "outputs": [
        {
          "name": "stdout",
          "output_type": "stream",
          "text": [
            "\n",
            "Countries: 231\n",
            "Energy Types: 6\n",
            "Years: 1980 to 2019\n",
            "\n",
            "Energy Types:\n",
            "  - all_energy_types: 9,240 records\n",
            "  - coal: 9,240 records\n",
            "  - natural_gas: 9,240 records\n",
            "  - nuclear: 9,240 records\n",
            "  - petroleum_n_other_liquids: 9,240 records\n",
            "  - renewables_n_other: 9,240 records\n"
          ]
        }
      ],
      "source": [
        "print(f\"\\nCountries: {df['Country'].nunique()}\")\n",
        "print(f\"Energy Types: {df['Energy_type'].nunique()}\")\n",
        "print(f\"Years: {df['Year'].min()} to {df['Year'].max()}\")\n",
        "\n",
        "print(\"\\nEnergy Types:\")\n",
        "for energy_type in sorted(df['Energy_type'].unique()):\n",
        "    count = len(df[df['Energy_type'] == energy_type])\n",
        "    print(f\"  - {energy_type}: {count:,} records\")"
      ]
    },
    {
      "cell_type": "markdown",
      "metadata": {},
      "source": [
        "## Data Quality Assessment"
      ]
    },
    {
      "cell_type": "markdown",
      "metadata": {},
      "source": [
        "Identify data quality issues including:\n",
        "- Missing values\n",
        "- Duplicate records\n",
        "- Data type inconsistencies\n",
        "- Outliers and anomalies"
      ]
    },
    {
      "cell_type": "markdown",
      "metadata": {},
      "source": [
        "Check for missing values"
      ]
    },
    {
      "cell_type": "code",
      "execution_count": 10,
      "metadata": {},
      "outputs": [
        {
          "name": "stdout",
          "output_type": "stream",
          "text": [
            "                     Column  Missing Count  Percentage\n",
            "                        GDP          15414   27.803030\n",
            "         Energy_consumption          11153   20.117244\n",
            "          Energy_production          11151   20.113636\n",
            "                 Population           9426   17.002165\n",
            "Energy_intensity_per_capita           5082    9.166667\n",
            "    Energy_intensity_by_GDP           5082    9.166667\n",
            "               CO2_emission           3826    6.901154\n"
          ]
        }
      ],
      "source": [
        "missing = df.isnull().sum()\n",
        "missing_pct = (missing / len(df)) * 100\n",
        "\n",
        "missing_df = pd.DataFrame({\n",
        "    'Column': missing.index,\n",
        "    'Missing Count': missing.values,\n",
        "    'Percentage': missing_pct.values\n",
        "})\n",
        "missing_df = missing_df[missing_df['Missing Count'] > 0].sort_values('Missing Count', ascending=False)\n",
        "\n",
        "if len(missing_df) > 0:\n",
        "    print(missing_df.to_string(index=False))\n",
        "else:\n",
        "    print(\"✓ No missing values found!\")"
      ]
    },
    {
      "cell_type": "markdown",
      "metadata": {},
      "source": [
        "Check for duplicate records"
      ]
    },
    {
      "cell_type": "code",
      "execution_count": 11,
      "metadata": {},
      "outputs": [
        {
          "name": "stdout",
          "output_type": "stream",
          "text": [
            "Total duplicate rows: 0\n",
            "✓ No duplicate records found!\n"
          ]
        }
      ],
      "source": [
        "duplicates = df.duplicated().sum()\n",
        "print(f\"Total duplicate rows: {duplicates}\")\n",
        "\n",
        "if duplicates > 0:\n",
        "    print(\"\\nSample duplicate records:\")\n",
        "    print(df[df.duplicated(keep=False)].head(10))\n",
        "else:\n",
        "    print(\"✓ No duplicate records found!\")"
      ]
    },
    {
      "cell_type": "markdown",
      "metadata": {},
      "source": [
        "Check data types and convert if necessary"
      ]
    },
    {
      "cell_type": "code",
      "execution_count": 12,
      "metadata": {},
      "outputs": [
        {
          "name": "stdout",
          "output_type": "stream",
          "text": [
            "\n",
            "Converting columns to appropriate data types...\n",
            "  - Energy_consumption: float64 → float64\n",
            "  - Energy_production: float64 → float64\n",
            "  - GDP: float64 → float64\n",
            "  - Population: float64 → float64\n",
            "  - Energy_intensity_per_capita: float64 → float64\n",
            "  - Energy_intensity_by_GDP: float64 → float64\n",
            "  - CO2_emission: float64 → float64\n",
            "\n",
            "✓ Data type conversion complete!\n"
          ]
        }
      ],
      "source": [
        "# Columns that should be numeric\n",
        "numeric_cols = ['Energy_consumption', 'Energy_production', 'GDP', 'Population', \n",
        "                'Energy_intensity_per_capita', 'Energy_intensity_by_GDP', 'CO2_emission']\n",
        "\n",
        "print(\"\\nConverting columns to appropriate data types...\")\n",
        "for col in numeric_cols:\n",
        "    if col in df.columns:\n",
        "        original_type = df[col].dtype\n",
        "        df[col] = pd.to_numeric(df[col], errors='coerce')\n",
        "        print(f\"  - {col}: {original_type} → {df[col].dtype}\")\n",
        "\n",
        "print(\"\\n✓ Data type conversion complete!\")"
      ]
    },
    {
      "cell_type": "markdown",
      "metadata": {},
      "source": [
        "## 4. Data Cleaning\n",
        "\n",
        "Based on our data quality assessment, we'll implement cleaning strategies:\n",
        "\n",
        "### 4.1 Remove Aggregated Data\n",
        "\n",
        "The dataset contains 'all_energy_types' which is a sum of all individual energy types. We'll remove these to avoid double-counting in our analysis."
      ]
    },
    {
      "cell_type": "code",
      "execution_count": 13,
      "metadata": {},
      "outputs": [
        {
          "name": "stdout",
          "output_type": "stream",
          "text": [
            "Records before: 55,440\n",
            "Records after: 46,200\n",
            "Records removed: 9,240\n"
          ]
        }
      ],
      "source": [
        "# Remove 'all_energy_types' records\n",
        "print(f\"Records before: {len(df):,}\")\n",
        "\n",
        "df_clean = df[df['Energy_type'] != 'all_energy_types'].copy()\n",
        "\n",
        "print(f\"Records after: {len(df_clean):,}\")\n",
        "print(f\"Records removed: {len(df) - len(df_clean):,}\")"
      ]
    },
    {
      "cell_type": "markdown",
      "metadata": {},
      "source": [
        "### Create Energy Categories\n",
        "\n",
        "We'll map the raw energy types to standardized categories for easier analysis."
      ]
    },
    {
      "cell_type": "code",
      "execution_count": 14,
      "metadata": {},
      "outputs": [
        {
          "name": "stdout",
          "output_type": "stream",
          "text": [
            "\n",
            "Energy Category Distribution:\n",
            "Energy_category\n",
            "coal           9240\n",
            "natural gas    9240\n",
            "petroleum      9240\n",
            "nuclear        9240\n",
            "renewables     9240\n",
            "Name: count, dtype: int64\n"
          ]
        }
      ],
      "source": [
        "# Create Energy_category column with proper mapping\n",
        "df_clean['Energy_category'] = df_clean['Energy_type'].apply(\n",
        "    lambda x: (\n",
        "        'coal' if str(x).lower() == 'coal' else\n",
        "        'natural gas' if str(x).lower() == 'natural_gas' else\n",
        "        'petroleum' if str(x).lower() == 'petroleum_n_other_liquids' else\n",
        "        'nuclear' if str(x).lower() == 'nuclear' else\n",
        "        'renewables' if str(x).lower() == 'renewables_n_other' else\n",
        "        'Other'\n",
        "    )\n",
        ")\n",
        "\n",
        "print(\"\\nEnergy Category Distribution:\")\n",
        "print(df_clean['Energy_category'].value_counts())"
      ]
    },
    {
      "cell_type": "markdown",
      "metadata": {},
      "source": [
        "### Handle Missing Values\n",
        "\n",
        "Implement appropriate strategies for handling missing data based on the nature of each column."
      ]
    },
    {
      "cell_type": "code",
      "execution_count": 15,
      "metadata": {},
      "outputs": [
        {
          "name": "stdout",
          "output_type": "stream",
          "text": [
            "                     Column  Missing Count  Percentage\n",
            "                        GDP          12845   27.803030\n",
            "         Energy_consumption          10506   22.740260\n",
            "          Energy_production          10504   22.735931\n",
            "                 Population           7855   17.002165\n",
            "Energy_intensity_per_capita           4235    9.166667\n",
            "    Energy_intensity_by_GDP           4235    9.166667\n",
            "               CO2_emission           2957    6.400433\n",
            "\n",
            "Filling missing values with 0 for energy metrics...\n",
            "✓ Missing values handled!\n"
          ]
        }
      ],
      "source": [
        "# Check missing values after initial cleaning\n",
        "missing_after = df_clean.isnull().sum()\n",
        "missing_pct_after = (missing_after / len(df_clean)) * 100\n",
        "\n",
        "missing_df_after = pd.DataFrame({\n",
        "    'Column': missing_after.index,\n",
        "    'Missing Count': missing_after.values,\n",
        "    'Percentage': missing_pct_after.values\n",
        "})\n",
        "missing_df_after = missing_df_after[missing_df_after['Missing Count'] > 0].sort_values('Missing Count', ascending=False)\n",
        "\n",
        "if len(missing_df_after) > 0:\n",
        "    print(missing_df_after.to_string(index=False))\n",
        "    \n",
        "    # Fill missing values with 0 for energy-related metrics (assuming no data means no consumption/emission)\n",
        "    print(\"\\nFilling missing values with 0 for energy metrics...\")\n",
        "    energy_metrics = ['Energy_consumption', 'Energy_production', 'CO2_emission', \n",
        "                     'Energy_intensity_per_capita', 'Energy_intensity_by_GDP']\n",
        "    for col in energy_metrics:\n",
        "        if col in df_clean.columns:\n",
        "            df_clean[col].fillna(0, inplace=True)\n",
        "    \n",
        "    print(\"✓ Missing values handled!\")\n",
        "else:\n",
        "    print(\"✓ No missing values found!\")"
      ]
    },
    {
      "cell_type": "markdown",
      "metadata": {},
      "source": [
        "### Remove Outlier\n",
        "Identify and handle extreme outliers that might skew our analysis."
      ]
    },
    {
      "cell_type": "code",
      "execution_count": 19,
      "metadata": {},
      "outputs": [
        {
          "data": {
            "image/png": "[encoded data removed]",
            "text/plain": [
              "<Figure size 1500x1000 with 5 Axes>"
            ]
          },
          "metadata": {},
          "output_type": "display_data"
        }
      ],
      "source": [
        "# Visualise outliers using box plots\n",
        "fig, axes = plt.subplots(2, 3, figsize=(15, 10))\n",
        "fig.suptitle('Outlier Detection - Box Plots', fontsize=16, fontweight='bold')\n",
        "\n",
        "numeric_columns = ['Energy_consumption', 'Energy_production', 'GDP', 'Population', 'CO2_emission']\n",
        "\n",
        "for idx, col in enumerate(numeric_columns):\n",
        "    row = idx // 3\n",
        "    col_idx = idx % 3\n",
        "    \n",
        "    axes[row, col_idx].boxplot(df_clean[col].dropna())\n",
        "    axes[row, col_idx].set_title(col)\n",
        "    axes[row, col_idx].set_ylabel('Value')\n",
        "\n",
        "# Remove the extra subplot\n",
        "fig.delaxes(axes[1, 2])\n",
        "\n",
        "plt.tight_layout()\n",
        "plt.savefig('outlier_detection.png', dpi=300, bbox_inches='tight')\n",
        "plt.show()"
      ]
    },
    {
      "cell_type": "markdown",
      "metadata": {},
      "source": [
        "Note: Outliers are expected in this dataset due to:\n",
        "  - Large countries (China, USA, India) vs small countries\n",
        "  - Different economic development levels\n",
        "  - We'll keep outliers as they represent real-world variations"
      ]
    },
    {
      "cell_type": "markdown",
      "metadata": {},
      "source": [
        "## Feature Engineering\n",
        "\n",
        "Create additional features that will be useful for analysis."
      ]
    },
    {
      "cell_type": "markdown",
      "metadata": {},
      "source": [
        "### 1. Energy balance (production - consumption)"
      ]
    },
    {
      "cell_type": "code",
      "execution_count": 20,
      "metadata": {},
      "outputs": [],
      "source": [
        "df_clean['Energy_balance'] = df_clean['Energy_production'] - df_clean['Energy_consumption']"
      ]
    },
    {
      "cell_type": "markdown",
      "metadata": {},
      "source": [
        "### 2. CO2 per capita"
      ]
    },
    {
      "cell_type": "code",
      "execution_count": 21,
      "metadata": {},
      "outputs": [],
      "source": [
        "df_clean['CO2_per_capita'] = np.where(\n",
        "    df_clean['Population'] > 0,\n",
        "    df_clean['CO2_emission'] / df_clean['Population'],\n",
        "    0\n",
        ")"
      ]
    },
    {
      "cell_type": "markdown",
      "metadata": {},
      "source": [
        "### 3. Energy efficiency (GDP per unit of energy)"
      ]
    },
    {
      "cell_type": "code",
      "execution_count": 22,
      "metadata": {},
      "outputs": [],
      "source": [
        "df_clean['Energy_efficiency'] = np.where(\n",
        "    df_clean['Energy_consumption'] > 0,\n",
        "    df_clean['GDP'] / df_clean['Energy_consumption'],\n",
        "    0\n",
        ")"
      ]
    },
    {
      "cell_type": "markdown",
      "metadata": {},
      "source": [
        "### 4. Decade grouping for trend analysis"
      ]
    },
    {
      "cell_type": "code",
      "execution_count": 23,
      "metadata": {},
      "outputs": [],
      "source": [
        "df_clean['Decade'] = (df_clean['Year'] // 10) * 10"
      ]
    },
    {
      "cell_type": "markdown",
      "metadata": {},
      "source": [
        "### 5. Energy type category (Fossil vs Renewable)"
      ]
    },
    {
      "cell_type": "code",
      "execution_count": 24,
      "metadata": {},
      "outputs": [],
      "source": [
        "df_clean['Energy_source_type'] = df_clean['Energy_category'].apply(\n",
        "    lambda x: 'Renewable' if x == 'renewables' else \n",
        "              'Nuclear' if x == 'nuclear' else \n",
        "              'Fossil Fuel'\n",
        ")\n"
      ]
    },
    {
      "cell_type": "markdown",
      "metadata": {},
      "source": [
        "## Final Dataset Summary\n",
        "\n",
        "Let's review our cleaned and enhanced dataset."
      ]
    },
    {
      "cell_type": "code",
      "execution_count": 25,
      "metadata": {},
      "outputs": [
        {
          "name": "stdout",
          "output_type": "stream",
          "text": [
            "Total records: 46,200\n",
            "Total columns: 17\n",
            "Memory usage: 15.36 MB\n",
            "\n",
            "Column List:\n",
            " 1. Unnamed: 0                     (int64)\n",
            " 2. Country                        (object)\n",
            " 3. Energy_type                    (object)\n",
            " 4. Year                           (int64)\n",
            " 5. Energy_consumption             (float64)\n",
            " 6. Energy_production              (float64)\n",
            " 7. GDP                            (float64)\n",
            " 8. Population                     (float64)\n",
            " 9. Energy_intensity_per_capita    (float64)\n",
            "10. Energy_intensity_by_GDP        (float64)\n",
            "11. CO2_emission                   (float64)\n",
            "12. Energy_category                (object)\n",
            "13. Energy_balance                 (float64)\n",
            "14. CO2_per_capita                 (float64)\n",
            "15. Energy_efficiency              (float64)\n",
            "16. Decade                         (int64)\n",
            "17. Energy_source_type             (object)\n"
          ]
        },
        {
          "data": {
            "text/html": [
              "<div>\n",
              "<style scoped>\n",
              "    .dataframe tbody tr th:only-of-type {\n",
              "        vertical-align: middle;\n",
              "    }\n",
              "\n",
              "    .dataframe tbody tr th {\n",
              "        vertical-align: top;\n",
              "    }\n",
              "\n",
              "    .dataframe thead th {\n",
              "        text-align: right;\n",
              "    }\n",
              "</style>\n",
              "<table border=\"1\" class=\"dataframe\">\n",
              "  <thead>\n",
              "    <tr style=\"text-align: right;\">\n",
              "      <th></th>\n",
              "      <th>Unnamed: 0</th>\n",
              "      <th>Country</th>\n",
              "      <th>Energy_type</th>\n",
              "      <th>Year</th>\n",
              "      <th>Energy_consumption</th>\n",
              "      <th>Energy_production</th>\n",
              "      <th>GDP</th>\n",
              "      <th>Population</th>\n",
              "      <th>Energy_intensity_per_capita</th>\n",
              "      <th>Energy_intensity_by_GDP</th>\n",
              "      <th>CO2_emission</th>\n",
              "      <th>Energy_category</th>\n",
              "      <th>Energy_balance</th>\n",
              "      <th>CO2_per_capita</th>\n",
              "      <th>Energy_efficiency</th>\n",
              "      <th>Decade</th>\n",
              "      <th>Energy_source_type</th>\n",
              "    </tr>\n",
              "  </thead>\n",
              "  <tbody>\n",
              "    <tr>\n",
              "      <th>1</th>\n",
              "      <td>1</td>\n",
              "      <td>World</td>\n",
              "      <td>coal</td>\n",
              "      <td>1980</td>\n",
              "      <td>78.656</td>\n",
              "      <td>80.114</td>\n",
              "      <td>27770.910</td>\n",
              "      <td>4298126.522</td>\n",
              "      <td>68.146</td>\n",
              "      <td>10.547</td>\n",
              "      <td>1409.790</td>\n",
              "      <td>coal</td>\n",
              "      <td>1.458</td>\n",
              "      <td>0.000</td>\n",
              "      <td>353.067</td>\n",
              "      <td>1980</td>\n",
              "      <td>Fossil Fuel</td>\n",
              "    </tr>\n",
              "    <tr>\n",
              "      <th>2</th>\n",
              "      <td>2</td>\n",
              "      <td>World</td>\n",
              "      <td>natural_gas</td>\n",
              "      <td>1980</td>\n",
              "      <td>53.865</td>\n",
              "      <td>54.761</td>\n",
              "      <td>27770.910</td>\n",
              "      <td>4298126.522</td>\n",
              "      <td>68.146</td>\n",
              "      <td>10.547</td>\n",
              "      <td>1081.593</td>\n",
              "      <td>natural gas</td>\n",
              "      <td>0.896</td>\n",
              "      <td>0.000</td>\n",
              "      <td>515.563</td>\n",
              "      <td>1980</td>\n",
              "      <td>Fossil Fuel</td>\n",
              "    </tr>\n",
              "    <tr>\n",
              "      <th>3</th>\n",
              "      <td>3</td>\n",
              "      <td>World</td>\n",
              "      <td>petroleum_n_other_liquids</td>\n",
              "      <td>1980</td>\n",
              "      <td>132.064</td>\n",
              "      <td>133.111</td>\n",
              "      <td>27770.910</td>\n",
              "      <td>4298126.522</td>\n",
              "      <td>68.146</td>\n",
              "      <td>10.547</td>\n",
              "      <td>2455.244</td>\n",
              "      <td>petroleum</td>\n",
              "      <td>1.047</td>\n",
              "      <td>0.001</td>\n",
              "      <td>210.284</td>\n",
              "      <td>1980</td>\n",
              "      <td>Fossil Fuel</td>\n",
              "    </tr>\n",
              "    <tr>\n",
              "      <th>4</th>\n",
              "      <td>4</td>\n",
              "      <td>World</td>\n",
              "      <td>nuclear</td>\n",
              "      <td>1980</td>\n",
              "      <td>7.576</td>\n",
              "      <td>7.576</td>\n",
              "      <td>27770.910</td>\n",
              "      <td>4298126.522</td>\n",
              "      <td>68.146</td>\n",
              "      <td>10.547</td>\n",
              "      <td>0.000</td>\n",
              "      <td>nuclear</td>\n",
              "      <td>0.000</td>\n",
              "      <td>0.000</td>\n",
              "      <td>3665.788</td>\n",
              "      <td>1980</td>\n",
              "      <td>Nuclear</td>\n",
              "    </tr>\n",
              "    <tr>\n",
              "      <th>5</th>\n",
              "      <td>5</td>\n",
              "      <td>World</td>\n",
              "      <td>renewables_n_other</td>\n",
              "      <td>1980</td>\n",
              "      <td>20.702</td>\n",
              "      <td>20.775</td>\n",
              "      <td>27770.910</td>\n",
              "      <td>4298126.522</td>\n",
              "      <td>68.146</td>\n",
              "      <td>10.547</td>\n",
              "      <td>0.000</td>\n",
              "      <td>renewables</td>\n",
              "      <td>0.073</td>\n",
              "      <td>0.000</td>\n",
              "      <td>1341.438</td>\n",
              "      <td>1980</td>\n",
              "      <td>Renewable</td>\n",
              "    </tr>\n",
              "    <tr>\n",
              "      <th>7</th>\n",
              "      <td>7</td>\n",
              "      <td>Afghanistan</td>\n",
              "      <td>coal</td>\n",
              "      <td>1980</td>\n",
              "      <td>0.002</td>\n",
              "      <td>0.002</td>\n",
              "      <td>NaN</td>\n",
              "      <td>13356.500</td>\n",
              "      <td>1.990</td>\n",
              "      <td>0.000</td>\n",
              "      <td>0.000</td>\n",
              "      <td>coal</td>\n",
              "      <td>-0.000</td>\n",
              "      <td>0.000</td>\n",
              "      <td>NaN</td>\n",
              "      <td>1980</td>\n",
              "      <td>Fossil Fuel</td>\n",
              "    </tr>\n",
              "    <tr>\n",
              "      <th>8</th>\n",
              "      <td>8</td>\n",
              "      <td>Afghanistan</td>\n",
              "      <td>natural_gas</td>\n",
              "      <td>1980</td>\n",
              "      <td>0.002</td>\n",
              "      <td>0.063</td>\n",
              "      <td>NaN</td>\n",
              "      <td>13356.500</td>\n",
              "      <td>1.990</td>\n",
              "      <td>0.000</td>\n",
              "      <td>0.000</td>\n",
              "      <td>natural gas</td>\n",
              "      <td>0.061</td>\n",
              "      <td>0.000</td>\n",
              "      <td>NaN</td>\n",
              "      <td>1980</td>\n",
              "      <td>Fossil Fuel</td>\n",
              "    </tr>\n",
              "    <tr>\n",
              "      <th>9</th>\n",
              "      <td>9</td>\n",
              "      <td>Afghanistan</td>\n",
              "      <td>petroleum_n_other_liquids</td>\n",
              "      <td>1980</td>\n",
              "      <td>0.015</td>\n",
              "      <td>0.000</td>\n",
              "      <td>NaN</td>\n",
              "      <td>13356.500</td>\n",
              "      <td>1.990</td>\n",
              "      <td>0.000</td>\n",
              "      <td>0.000</td>\n",
              "      <td>petroleum</td>\n",
              "      <td>-0.015</td>\n",
              "      <td>0.000</td>\n",
              "      <td>NaN</td>\n",
              "      <td>1980</td>\n",
              "      <td>Fossil Fuel</td>\n",
              "    </tr>\n",
              "    <tr>\n",
              "      <th>10</th>\n",
              "      <td>10</td>\n",
              "      <td>Afghanistan</td>\n",
              "      <td>nuclear</td>\n",
              "      <td>1980</td>\n",
              "      <td>0.000</td>\n",
              "      <td>0.000</td>\n",
              "      <td>NaN</td>\n",
              "      <td>13356.500</td>\n",
              "      <td>1.990</td>\n",
              "      <td>0.000</td>\n",
              "      <td>0.000</td>\n",
              "      <td>nuclear</td>\n",
              "      <td>0.000</td>\n",
              "      <td>0.000</td>\n",
              "      <td>0.000</td>\n",
              "      <td>1980</td>\n",
              "      <td>Nuclear</td>\n",
              "    </tr>\n",
              "    <tr>\n",
              "      <th>11</th>\n",
              "      <td>11</td>\n",
              "      <td>Afghanistan</td>\n",
              "      <td>renewables_n_other</td>\n",
              "      <td>1980</td>\n",
              "      <td>0.007</td>\n",
              "      <td>0.007</td>\n",
              "      <td>NaN</td>\n",
              "      <td>13356.500</td>\n",
              "      <td>1.990</td>\n",
              "      <td>0.000</td>\n",
              "      <td>0.000</td>\n",
              "      <td>renewables</td>\n",
              "      <td>0.000</td>\n",
              "      <td>0.000</td>\n",
              "      <td>NaN</td>\n",
              "      <td>1980</td>\n",
              "      <td>Renewable</td>\n",
              "    </tr>\n",
              "  </tbody>\n",
              "</table>\n",
              "</div>"
            ],
            "text/plain": [
              "    Unnamed: 0      Country                Energy_type  Year  \\\n",
              "1            1        World                       coal  1980   \n",
              "2            2        World                natural_gas  1980   \n",
              "3            3        World  petroleum_n_other_liquids  1980   \n",
              "4            4        World                    nuclear  1980   \n",
              "5            5        World         renewables_n_other  1980   \n",
              "7            7  Afghanistan                       coal  1980   \n",
              "8            8  Afghanistan                natural_gas  1980   \n",
              "9            9  Afghanistan  petroleum_n_other_liquids  1980   \n",
              "10          10  Afghanistan                    nuclear  1980   \n",
              "11          11  Afghanistan         renewables_n_other  1980   \n",
              "\n",
              "    Energy_consumption  Energy_production       GDP  Population  \\\n",
              "1               78.656             80.114 27770.910 4298126.522   \n",
              "2               53.865             54.761 27770.910 4298126.522   \n",
              "3              132.064            133.111 27770.910 4298126.522   \n",
              "4                7.576              7.576 27770.910 4298126.522   \n",
              "5               20.702             20.775 27770.910 4298126.522   \n",
              "7                0.002              0.002       NaN   13356.500   \n",
              "8                0.002              0.063       NaN   13356.500   \n",
              "9                0.015              0.000       NaN   13356.500   \n",
              "10               0.000              0.000       NaN   13356.500   \n",
              "11               0.007              0.007       NaN   13356.500   \n",
              "\n",
              "    Energy_intensity_per_capita  Energy_intensity_by_GDP  CO2_emission  \\\n",
              "1                        68.146                   10.547      1409.790   \n",
              "2                        68.146                   10.547      1081.593   \n",
              "3                        68.146                   10.547      2455.244   \n",
              "4                        68.146                   10.547         0.000   \n",
              "5                        68.146                   10.547         0.000   \n",
              "7                         1.990                    0.000         0.000   \n",
              "8                         1.990                    0.000         0.000   \n",
              "9                         1.990                    0.000         0.000   \n",
              "10                        1.990                    0.000         0.000   \n",
              "11                        1.990                    0.000         0.000   \n",
              "\n",
              "   Energy_category  Energy_balance  CO2_per_capita  Energy_efficiency  Decade  \\\n",
              "1             coal           1.458           0.000            353.067    1980   \n",
              "2      natural gas           0.896           0.000            515.563    1980   \n",
              "3        petroleum           1.047           0.001            210.284    1980   \n",
              "4          nuclear           0.000           0.000           3665.788    1980   \n",
              "5       renewables           0.073           0.000           1341.438    1980   \n",
              "7             coal          -0.000           0.000                NaN    1980   \n",
              "8      natural gas           0.061           0.000                NaN    1980   \n",
              "9        petroleum          -0.015           0.000                NaN    1980   \n",
              "10         nuclear           0.000           0.000              0.000    1980   \n",
              "11      renewables           0.000           0.000                NaN    1980   \n",
              "\n",
              "   Energy_source_type  \n",
              "1         Fossil Fuel  \n",
              "2         Fossil Fuel  \n",
              "3         Fossil Fuel  \n",
              "4             Nuclear  \n",
              "5           Renewable  \n",
              "7         Fossil Fuel  \n",
              "8         Fossil Fuel  \n",
              "9         Fossil Fuel  \n",
              "10            Nuclear  \n",
              "11          Renewable  "
            ]
          },
          "execution_count": 25,
          "metadata": {},
          "output_type": "execute_result"
        }
      ],
      "source": [
        "# Display final dataset information\n",
        "print(f\"Total records: {len(df_clean):,}\")\n",
        "print(f\"Total columns: {len(df_clean.columns)}\")\n",
        "print(f\"Memory usage: {df_clean.memory_usage(deep=True).sum() / 1024**2:.2f} MB\")\n",
        "\n",
        "print(\"\\nColumn List:\")\n",
        "for i, col in enumerate(df_clean.columns, 1):\n",
        "    print(f\"{i:2d}. {col:30s} ({df_clean[col].dtype})\")\n",
        "\n",
        "df_clean.head(10)"
      ]
    },
    {
      "cell_type": "markdown",
      "metadata": {},
      "source": [
        "## Save Cleaned Dataset\n",
        "\n",
        "Export the cleaned dataset for use in subsequent analysis notebooks."
      ]
    },
    {
      "cell_type": "code",
      "execution_count": 26,
      "metadata": {},
      "outputs": [],
      "source": [
        "# Save the cleaned data to a new CSV file\n",
        "\n",
        "processed_file_path = current_dir+'\\\\dataset\\\\processed\\\\cleaned_energy_data.csv'\n",
        "df_clean.to_csv(processed_file_path, index=False)"
      ]
    }
  ],
  "metadata": {
    "accelerator": "GPU",
    "colab": {
      "name": "Data Practitioner Jupyter Notebook.ipynb",
      "provenance": [],
      "toc_visible": true
    },
    "kernelspec": {
      "display_name": ".venv",
      "language": "python",
      "name": "python3"
    },
    "language_info": {
      "codemirror_mode": {
        "name": "ipython",
        "version": 3
      },
      "file_extension": ".py",
      "mimetype": "text/x-python",
      "name": "python",
      "nbconvert_exporter": "python",
      "pygments_lexer": "ipython3",
      "version": "3.12.8"
    },
    "orig_nbformat": 2
  },
  "nbformat": 4,
  "nbformat_minor": 2
}
