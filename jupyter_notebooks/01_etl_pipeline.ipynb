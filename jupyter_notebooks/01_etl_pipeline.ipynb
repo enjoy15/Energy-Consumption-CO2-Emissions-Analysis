{
  "cells": [
    {
      "cell_type": "markdown",
      "metadata": {
        "id": "0aStgWSO0E0E"
      },
      "source": [
        "# **Energy Consumption & CO2 Emissions Analysis**"
      ]
    },
    {
      "cell_type": "markdown",
      "metadata": {},
      "source": [
        "## About Dataset\n",
        "\n",
        "The world is becoming more modernized by the year, and with this becoming all the more polluted.\n",
        "\n",
        "This data was pulled from the US Energy Administration and joined together for an easier analysis. Its a collection of some big factors that play into C02 Emissions, with everything from the Production and Consumption of each type of major energy source for each country and its pollution rating each year. It also includes each countries GDP, Population, Energy intensity per capita (person), and Energy intensity per GDP (per person GDP). All the data spans all the way from the 1980's to 2020. \n",
        "\n",
        "### Feature Descriptions:\n",
        "* **Country** - Country in question\n",
        "* **Energy_type** - Type of energy source\n",
        "* **Year** - Year the data was recorded\n",
        "* **Energy_consumption** - Amount of Consumption for the specific energy source, measured (quad Btu)\n",
        "* **Energy_production** - Amount of Production for the specific energy source, measured (quad Btu)\n",
        "* **GDP** - Countries GDP at purchasing power parities, measured (Billion 2015$ PPP)\n",
        "* **Population** - Population of specific Country, measured (Mperson)\n",
        "* **Energy_intensity_per_capita** - Energy intensity is a measure of the energy inefficiency of an economy. It is calculated as units of energy per unit of capita (capita = individual person), measured (MMBtu/person)\n",
        "* **Energy_intensity_by_GDP**- Energy intensity is a measure of the energy inefficiency of an economy. It is calculated as units of energy per unit of GDP, measred (1000 Btu/2015$ GDP PPP)\n",
        "* **CO2_emission** - The amount of C02 emitted, measured (MMtonnes CO2)\n",
        "\n",
        "## Objectives\n",
        "\n",
        "1. Analyze global energy consumption patterns and CO2 emissions (1980-2020)\n",
        "2. Investigate relationships between GDP, population, and energy consumption\n",
        "3. Identify trends in renewable vs non-renewable energy adoption\n",
        "4. Test hypotheses about economic and demographic factors affecting emissions\n",
        "5. Build predictive models for energy consumption and emissions\n",
        "6. Create an interactive dashboard for data exploration and insights\n",
        "\n",
        "## Inputs\n",
        "\n",
        "* Data source: https://www.kaggle.com/datasets/lobosi/c02-emission-by-countrys-grouth-and-population\n",
        "\n",
        "## Outputs\n",
        "\n",
        "* Cleaned dataset to use in the next step."
      ]
    },
    {
      "cell_type": "markdown",
      "metadata": {
        "id": "9uWZXH9LwoQg"
      },
      "source": [
        "---"
      ]
    },
    {
      "cell_type": "markdown",
      "metadata": {
        "id": "cqP-UeN-z3i2"
      },
      "source": [
        "# Change working directory"
      ]
    },
    {
      "cell_type": "markdown",
      "metadata": {},
      "source": [
        "* We are assuming you will store the notebooks in a subfolder, therefore when running the notebook in the editor, you will need to change the working directory"
      ]
    },
    {
      "cell_type": "markdown",
      "metadata": {
        "id": "aOGIGS-uz3i2"
      },
      "source": [
        "We need to change the working directory from its current folder to its parent folder\n",
        "* We access the current directory with os.getcwd()"
      ]
    },
    {
      "cell_type": "code",
      "execution_count": 2,
      "metadata": {
        "id": "wZfF_j-Bz3i4",
        "outputId": "66943449-1436-4c3d-85c7-b85f9f78349b"
      },
      "outputs": [
        {
          "data": {
            "text/plain": [
              "'d:\\\\Code Institute\\\\Energy-Consumption-CO2-Emissions-Analysis\\\\jupyter_notebooks'"
            ]
          },
          "execution_count": 2,
          "metadata": {},
          "output_type": "execute_result"
        }
      ],
      "source": [
        "import os\n",
        "current_dir = os.getcwd()\n",
        "current_dir"
      ]
    },
    {
      "cell_type": "markdown",
      "metadata": {
        "id": "9MWW8E7lz3i7"
      },
      "source": [
        "We want to make the parent of the current directory the new current directory\n",
        "* os.path.dirname() gets the parent directory\n",
        "* os.chir() defines the new current directory"
      ]
    },
    {
      "cell_type": "code",
      "execution_count": 3,
      "metadata": {
        "id": "TwHsQRWjz3i9",
        "outputId": "86849db3-cd2f-4cc5-ebb8-2d0caafa1a2c"
      },
      "outputs": [
        {
          "name": "stdout",
          "output_type": "stream",
          "text": [
            "You set a new current directory\n"
          ]
        }
      ],
      "source": [
        "os.chdir(os.path.dirname(current_dir))\n",
        "print(\"You set a new current directory\")"
      ]
    },
    {
      "cell_type": "markdown",
      "metadata": {
        "id": "M_xPk_Ijz3i-"
      },
      "source": [
        "Confirm the new current directory"
      ]
    },
    {
      "cell_type": "code",
      "execution_count": 4,
      "metadata": {
        "id": "vz3S-_kjz3jA",
        "outputId": "00b79ae4-75d0-4a96-d193-ac9ef9847ea2"
      },
      "outputs": [
        {
          "data": {
            "text/plain": [
              "'d:\\\\Code Institute\\\\Energy-Consumption-CO2-Emissions-Analysis'"
            ]
          },
          "execution_count": 4,
          "metadata": {},
          "output_type": "execute_result"
        }
      ],
      "source": [
        "current_dir = os.getcwd()\n",
        "current_dir"
      ]
    },
    {
      "cell_type": "code",
      "execution_count": 5,
      "metadata": {},
      "outputs": [
        {
          "data": {
            "text/plain": [
              "'d:\\\\Code Institute\\\\Energy-Consumption-CO2-Emissions-Analysis\\\\dataset\\\\raw\\\\energy.csv'"
            ]
          },
          "execution_count": 5,
          "metadata": {},
          "output_type": "execute_result"
        }
      ],
      "source": [
        "input_file_path = current_dir+'\\\\dataset\\\\raw\\\\energy.csv'\n",
        "input_file_path"
      ]
    },
    {
      "cell_type": "markdown",
      "metadata": {},
      "source": [
        "## Extraction"
      ]
    },
    {
      "cell_type": "markdown",
      "metadata": {},
      "source": [
        "Import Packages"
      ]
    },
    {
      "cell_type": "code",
      "execution_count": 6,
      "metadata": {},
      "outputs": [],
      "source": [
        "import numpy as np\n",
        "import pandas as pd"
      ]
    },
    {
      "cell_type": "markdown",
      "metadata": {},
      "source": [
        "Load the dataset"
      ]
    },
    {
      "cell_type": "code",
      "execution_count": 8,
      "metadata": {},
      "outputs": [
        {
          "data": {
            "text/html": [
              "<div>\n",
              "<style scoped>\n",
              "    .dataframe tbody tr th:only-of-type {\n",
              "        vertical-align: middle;\n",
              "    }\n",
              "\n",
              "    .dataframe tbody tr th {\n",
              "        vertical-align: top;\n",
              "    }\n",
              "\n",
              "    .dataframe thead th {\n",
              "        text-align: right;\n",
              "    }\n",
              "</style>\n",
              "<table border=\"1\" class=\"dataframe\">\n",
              "  <thead>\n",
              "    <tr style=\"text-align: right;\">\n",
              "      <th></th>\n",
              "      <th>Unnamed: 0</th>\n",
              "      <th>Country</th>\n",
              "      <th>Energy_type</th>\n",
              "      <th>Year</th>\n",
              "      <th>Energy_consumption</th>\n",
              "      <th>Energy_production</th>\n",
              "      <th>GDP</th>\n",
              "      <th>Population</th>\n",
              "      <th>Energy_intensity_per_capita</th>\n",
              "      <th>Energy_intensity_by_GDP</th>\n",
              "      <th>CO2_emission</th>\n",
              "    </tr>\n",
              "  </thead>\n",
              "  <tbody>\n",
              "    <tr>\n",
              "      <th>0</th>\n",
              "      <td>0</td>\n",
              "      <td>World</td>\n",
              "      <td>all_energy_types</td>\n",
              "      <td>1980</td>\n",
              "      <td>292.899790</td>\n",
              "      <td>296.337228</td>\n",
              "      <td>27770.910281</td>\n",
              "      <td>4.298127e+06</td>\n",
              "      <td>68.145921</td>\n",
              "      <td>10.547000</td>\n",
              "      <td>4946.627130</td>\n",
              "    </tr>\n",
              "    <tr>\n",
              "      <th>1</th>\n",
              "      <td>1</td>\n",
              "      <td>World</td>\n",
              "      <td>coal</td>\n",
              "      <td>1980</td>\n",
              "      <td>78.656134</td>\n",
              "      <td>80.114194</td>\n",
              "      <td>27770.910281</td>\n",
              "      <td>4.298127e+06</td>\n",
              "      <td>68.145921</td>\n",
              "      <td>10.547000</td>\n",
              "      <td>1409.790188</td>\n",
              "    </tr>\n",
              "    <tr>\n",
              "      <th>2</th>\n",
              "      <td>2</td>\n",
              "      <td>World</td>\n",
              "      <td>natural_gas</td>\n",
              "      <td>1980</td>\n",
              "      <td>53.865223</td>\n",
              "      <td>54.761046</td>\n",
              "      <td>27770.910281</td>\n",
              "      <td>4.298127e+06</td>\n",
              "      <td>68.145921</td>\n",
              "      <td>10.547000</td>\n",
              "      <td>1081.593377</td>\n",
              "    </tr>\n",
              "    <tr>\n",
              "      <th>3</th>\n",
              "      <td>3</td>\n",
              "      <td>World</td>\n",
              "      <td>petroleum_n_other_liquids</td>\n",
              "      <td>1980</td>\n",
              "      <td>132.064019</td>\n",
              "      <td>133.111109</td>\n",
              "      <td>27770.910281</td>\n",
              "      <td>4.298127e+06</td>\n",
              "      <td>68.145921</td>\n",
              "      <td>10.547000</td>\n",
              "      <td>2455.243565</td>\n",
              "    </tr>\n",
              "    <tr>\n",
              "      <th>4</th>\n",
              "      <td>4</td>\n",
              "      <td>World</td>\n",
              "      <td>nuclear</td>\n",
              "      <td>1980</td>\n",
              "      <td>7.575700</td>\n",
              "      <td>7.575700</td>\n",
              "      <td>27770.910281</td>\n",
              "      <td>4.298127e+06</td>\n",
              "      <td>68.145921</td>\n",
              "      <td>10.547000</td>\n",
              "      <td>0.000000</td>\n",
              "    </tr>\n",
              "    <tr>\n",
              "      <th>...</th>\n",
              "      <td>...</td>\n",
              "      <td>...</td>\n",
              "      <td>...</td>\n",
              "      <td>...</td>\n",
              "      <td>...</td>\n",
              "      <td>...</td>\n",
              "      <td>...</td>\n",
              "      <td>...</td>\n",
              "      <td>...</td>\n",
              "      <td>...</td>\n",
              "      <td>...</td>\n",
              "    </tr>\n",
              "    <tr>\n",
              "      <th>55435</th>\n",
              "      <td>55435</td>\n",
              "      <td>Zimbabwe</td>\n",
              "      <td>coal</td>\n",
              "      <td>2019</td>\n",
              "      <td>0.045064</td>\n",
              "      <td>0.075963</td>\n",
              "      <td>37.620400</td>\n",
              "      <td>1.465420e+04</td>\n",
              "      <td>11.508701</td>\n",
              "      <td>4.482962</td>\n",
              "      <td>4.586869</td>\n",
              "    </tr>\n",
              "    <tr>\n",
              "      <th>55436</th>\n",
              "      <td>55436</td>\n",
              "      <td>Zimbabwe</td>\n",
              "      <td>natural_gas</td>\n",
              "      <td>2019</td>\n",
              "      <td>0.000000</td>\n",
              "      <td>0.000000</td>\n",
              "      <td>37.620400</td>\n",
              "      <td>1.465420e+04</td>\n",
              "      <td>11.508701</td>\n",
              "      <td>4.482962</td>\n",
              "      <td>0.000000</td>\n",
              "    </tr>\n",
              "    <tr>\n",
              "      <th>55437</th>\n",
              "      <td>55437</td>\n",
              "      <td>Zimbabwe</td>\n",
              "      <td>petroleum_n_other_liquids</td>\n",
              "      <td>2019</td>\n",
              "      <td>0.055498</td>\n",
              "      <td>0.000000</td>\n",
              "      <td>37.620400</td>\n",
              "      <td>1.465420e+04</td>\n",
              "      <td>11.508701</td>\n",
              "      <td>4.482962</td>\n",
              "      <td>4.377890</td>\n",
              "    </tr>\n",
              "    <tr>\n",
              "      <th>55438</th>\n",
              "      <td>55438</td>\n",
              "      <td>Zimbabwe</td>\n",
              "      <td>nuclear</td>\n",
              "      <td>2019</td>\n",
              "      <td>NaN</td>\n",
              "      <td>NaN</td>\n",
              "      <td>37.620400</td>\n",
              "      <td>1.465420e+04</td>\n",
              "      <td>11.508701</td>\n",
              "      <td>4.482962</td>\n",
              "      <td>0.000000</td>\n",
              "    </tr>\n",
              "    <tr>\n",
              "      <th>55439</th>\n",
              "      <td>55439</td>\n",
              "      <td>Zimbabwe</td>\n",
              "      <td>renewables_n_other</td>\n",
              "      <td>2019</td>\n",
              "      <td>0.068089</td>\n",
              "      <td>0.067499</td>\n",
              "      <td>37.620400</td>\n",
              "      <td>1.465420e+04</td>\n",
              "      <td>11.508701</td>\n",
              "      <td>4.482962</td>\n",
              "      <td>0.000000</td>\n",
              "    </tr>\n",
              "  </tbody>\n",
              "</table>\n",
              "<p>55440 rows × 11 columns</p>\n",
              "</div>"
            ],
            "text/plain": [
              "       Unnamed: 0   Country                Energy_type  Year  \\\n",
              "0               0     World           all_energy_types  1980   \n",
              "1               1     World                       coal  1980   \n",
              "2               2     World                natural_gas  1980   \n",
              "3               3     World  petroleum_n_other_liquids  1980   \n",
              "4               4     World                    nuclear  1980   \n",
              "...           ...       ...                        ...   ...   \n",
              "55435       55435  Zimbabwe                       coal  2019   \n",
              "55436       55436  Zimbabwe                natural_gas  2019   \n",
              "55437       55437  Zimbabwe  petroleum_n_other_liquids  2019   \n",
              "55438       55438  Zimbabwe                    nuclear  2019   \n",
              "55439       55439  Zimbabwe         renewables_n_other  2019   \n",
              "\n",
              "       Energy_consumption  Energy_production           GDP    Population  \\\n",
              "0              292.899790         296.337228  27770.910281  4.298127e+06   \n",
              "1               78.656134          80.114194  27770.910281  4.298127e+06   \n",
              "2               53.865223          54.761046  27770.910281  4.298127e+06   \n",
              "3              132.064019         133.111109  27770.910281  4.298127e+06   \n",
              "4                7.575700           7.575700  27770.910281  4.298127e+06   \n",
              "...                   ...                ...           ...           ...   \n",
              "55435            0.045064           0.075963     37.620400  1.465420e+04   \n",
              "55436            0.000000           0.000000     37.620400  1.465420e+04   \n",
              "55437            0.055498           0.000000     37.620400  1.465420e+04   \n",
              "55438                 NaN                NaN     37.620400  1.465420e+04   \n",
              "55439            0.068089           0.067499     37.620400  1.465420e+04   \n",
              "\n",
              "       Energy_intensity_per_capita  Energy_intensity_by_GDP  CO2_emission  \n",
              "0                        68.145921                10.547000   4946.627130  \n",
              "1                        68.145921                10.547000   1409.790188  \n",
              "2                        68.145921                10.547000   1081.593377  \n",
              "3                        68.145921                10.547000   2455.243565  \n",
              "4                        68.145921                10.547000      0.000000  \n",
              "...                            ...                      ...           ...  \n",
              "55435                    11.508701                 4.482962      4.586869  \n",
              "55436                    11.508701                 4.482962      0.000000  \n",
              "55437                    11.508701                 4.482962      4.377890  \n",
              "55438                    11.508701                 4.482962      0.000000  \n",
              "55439                    11.508701                 4.482962      0.000000  \n",
              "\n",
              "[55440 rows x 11 columns]"
            ]
          },
          "execution_count": 8,
          "metadata": {},
          "output_type": "execute_result"
        }
      ],
      "source": [
        "# Load the dataset\n",
        "df = pd.read_csv(input_file_path)\n",
        "# Preview the first few rows\n",
        "df"
      ]
    },
    {
      "cell_type": "markdown",
      "metadata": {},
      "source": [
        "---"
      ]
    },
    {
      "cell_type": "markdown",
      "metadata": {},
      "source": [
        "## TRANSFORMATION & CLEANING"
      ]
    },
    {
      "cell_type": "markdown",
      "metadata": {},
      "source": [
        "Handle unnamed index column - Remove it"
      ]
    },
    {
      "cell_type": "code",
      "execution_count": 9,
      "metadata": {},
      "outputs": [
        {
          "data": {
            "text/html": [
              "<div>\n",
              "<style scoped>\n",
              "    .dataframe tbody tr th:only-of-type {\n",
              "        vertical-align: middle;\n",
              "    }\n",
              "\n",
              "    .dataframe tbody tr th {\n",
              "        vertical-align: top;\n",
              "    }\n",
              "\n",
              "    .dataframe thead th {\n",
              "        text-align: right;\n",
              "    }\n",
              "</style>\n",
              "<table border=\"1\" class=\"dataframe\">\n",
              "  <thead>\n",
              "    <tr style=\"text-align: right;\">\n",
              "      <th></th>\n",
              "      <th>Country</th>\n",
              "      <th>Energy_type</th>\n",
              "      <th>Year</th>\n",
              "      <th>Energy_consumption</th>\n",
              "      <th>Energy_production</th>\n",
              "      <th>GDP</th>\n",
              "      <th>Population</th>\n",
              "      <th>Energy_intensity_per_capita</th>\n",
              "      <th>Energy_intensity_by_GDP</th>\n",
              "      <th>CO2_emission</th>\n",
              "    </tr>\n",
              "  </thead>\n",
              "  <tbody>\n",
              "    <tr>\n",
              "      <th>0</th>\n",
              "      <td>World</td>\n",
              "      <td>all_energy_types</td>\n",
              "      <td>1980</td>\n",
              "      <td>292.899790</td>\n",
              "      <td>296.337228</td>\n",
              "      <td>27770.910281</td>\n",
              "      <td>4.298127e+06</td>\n",
              "      <td>68.145921</td>\n",
              "      <td>10.547</td>\n",
              "      <td>4946.627130</td>\n",
              "    </tr>\n",
              "    <tr>\n",
              "      <th>1</th>\n",
              "      <td>World</td>\n",
              "      <td>coal</td>\n",
              "      <td>1980</td>\n",
              "      <td>78.656134</td>\n",
              "      <td>80.114194</td>\n",
              "      <td>27770.910281</td>\n",
              "      <td>4.298127e+06</td>\n",
              "      <td>68.145921</td>\n",
              "      <td>10.547</td>\n",
              "      <td>1409.790188</td>\n",
              "    </tr>\n",
              "    <tr>\n",
              "      <th>2</th>\n",
              "      <td>World</td>\n",
              "      <td>natural_gas</td>\n",
              "      <td>1980</td>\n",
              "      <td>53.865223</td>\n",
              "      <td>54.761046</td>\n",
              "      <td>27770.910281</td>\n",
              "      <td>4.298127e+06</td>\n",
              "      <td>68.145921</td>\n",
              "      <td>10.547</td>\n",
              "      <td>1081.593377</td>\n",
              "    </tr>\n",
              "    <tr>\n",
              "      <th>3</th>\n",
              "      <td>World</td>\n",
              "      <td>petroleum_n_other_liquids</td>\n",
              "      <td>1980</td>\n",
              "      <td>132.064019</td>\n",
              "      <td>133.111109</td>\n",
              "      <td>27770.910281</td>\n",
              "      <td>4.298127e+06</td>\n",
              "      <td>68.145921</td>\n",
              "      <td>10.547</td>\n",
              "      <td>2455.243565</td>\n",
              "    </tr>\n",
              "    <tr>\n",
              "      <th>4</th>\n",
              "      <td>World</td>\n",
              "      <td>nuclear</td>\n",
              "      <td>1980</td>\n",
              "      <td>7.575700</td>\n",
              "      <td>7.575700</td>\n",
              "      <td>27770.910281</td>\n",
              "      <td>4.298127e+06</td>\n",
              "      <td>68.145921</td>\n",
              "      <td>10.547</td>\n",
              "      <td>0.000000</td>\n",
              "    </tr>\n",
              "  </tbody>\n",
              "</table>\n",
              "</div>"
            ],
            "text/plain": [
              "  Country                Energy_type  Year  Energy_consumption  \\\n",
              "0   World           all_energy_types  1980          292.899790   \n",
              "1   World                       coal  1980           78.656134   \n",
              "2   World                natural_gas  1980           53.865223   \n",
              "3   World  petroleum_n_other_liquids  1980          132.064019   \n",
              "4   World                    nuclear  1980            7.575700   \n",
              "\n",
              "   Energy_production           GDP    Population  Energy_intensity_per_capita  \\\n",
              "0         296.337228  27770.910281  4.298127e+06                    68.145921   \n",
              "1          80.114194  27770.910281  4.298127e+06                    68.145921   \n",
              "2          54.761046  27770.910281  4.298127e+06                    68.145921   \n",
              "3         133.111109  27770.910281  4.298127e+06                    68.145921   \n",
              "4           7.575700  27770.910281  4.298127e+06                    68.145921   \n",
              "\n",
              "   Energy_intensity_by_GDP  CO2_emission  \n",
              "0                   10.547   4946.627130  \n",
              "1                   10.547   1409.790188  \n",
              "2                   10.547   1081.593377  \n",
              "3                   10.547   2455.243565  \n",
              "4                   10.547      0.000000  "
            ]
          },
          "execution_count": 9,
          "metadata": {},
          "output_type": "execute_result"
        }
      ],
      "source": [
        "if 'Unnamed: 0' in df.columns or '' in df.columns:\n",
        "    df = df.drop(columns=[col for col in df.columns if 'Unnamed' in str(col) or col == ''])\n",
        "df.head()"
      ]
    },
    {
      "cell_type": "markdown",
      "metadata": {},
      "source": [
        "Check if there are missing data"
      ]
    },
    {
      "cell_type": "code",
      "execution_count": 10,
      "metadata": {},
      "outputs": [
        {
          "data": {
            "text/plain": [
              "Country                            0\n",
              "Energy_type                        0\n",
              "Year                               0\n",
              "Energy_consumption             11153\n",
              "Energy_production              11151\n",
              "GDP                            15414\n",
              "Population                      9426\n",
              "Energy_intensity_per_capita     5082\n",
              "Energy_intensity_by_GDP         5082\n",
              "CO2_emission                    3826\n",
              "dtype: int64"
            ]
          },
          "execution_count": 10,
          "metadata": {},
          "output_type": "execute_result"
        }
      ],
      "source": [
        "df.isnull().sum()"
      ]
    },
    {
      "cell_type": "code",
      "execution_count": 11,
      "metadata": {},
      "outputs": [
        {
          "data": {
            "text/html": [
              "<div>\n",
              "<style scoped>\n",
              "    .dataframe tbody tr th:only-of-type {\n",
              "        vertical-align: middle;\n",
              "    }\n",
              "\n",
              "    .dataframe tbody tr th {\n",
              "        vertical-align: top;\n",
              "    }\n",
              "\n",
              "    .dataframe thead th {\n",
              "        text-align: right;\n",
              "    }\n",
              "</style>\n",
              "<table border=\"1\" class=\"dataframe\">\n",
              "  <thead>\n",
              "    <tr style=\"text-align: right;\">\n",
              "      <th></th>\n",
              "      <th>Missing_Count</th>\n",
              "      <th>Percentage</th>\n",
              "    </tr>\n",
              "  </thead>\n",
              "  <tbody>\n",
              "    <tr>\n",
              "      <th>Energy_consumption</th>\n",
              "      <td>11153</td>\n",
              "      <td>20.117244</td>\n",
              "    </tr>\n",
              "    <tr>\n",
              "      <th>Energy_production</th>\n",
              "      <td>11151</td>\n",
              "      <td>20.113636</td>\n",
              "    </tr>\n",
              "    <tr>\n",
              "      <th>GDP</th>\n",
              "      <td>15414</td>\n",
              "      <td>27.803030</td>\n",
              "    </tr>\n",
              "    <tr>\n",
              "      <th>Population</th>\n",
              "      <td>9426</td>\n",
              "      <td>17.002165</td>\n",
              "    </tr>\n",
              "    <tr>\n",
              "      <th>Energy_intensity_per_capita</th>\n",
              "      <td>5082</td>\n",
              "      <td>9.166667</td>\n",
              "    </tr>\n",
              "    <tr>\n",
              "      <th>Energy_intensity_by_GDP</th>\n",
              "      <td>5082</td>\n",
              "      <td>9.166667</td>\n",
              "    </tr>\n",
              "    <tr>\n",
              "      <th>CO2_emission</th>\n",
              "      <td>3826</td>\n",
              "      <td>6.901154</td>\n",
              "    </tr>\n",
              "  </tbody>\n",
              "</table>\n",
              "</div>"
            ],
            "text/plain": [
              "                             Missing_Count  Percentage\n",
              "Energy_consumption                   11153   20.117244\n",
              "Energy_production                    11151   20.113636\n",
              "GDP                                  15414   27.803030\n",
              "Population                            9426   17.002165\n",
              "Energy_intensity_per_capita           5082    9.166667\n",
              "Energy_intensity_by_GDP               5082    9.166667\n",
              "CO2_emission                          3826    6.901154"
            ]
          },
          "execution_count": 11,
          "metadata": {},
          "output_type": "execute_result"
        }
      ],
      "source": [
        "missing_counts = df.isnull().sum()\n",
        "missing_pct = (missing_counts / len(df)) * 100\n",
        "missing_df = pd.DataFrame({\n",
        "    'Missing_Count': missing_counts,\n",
        "    'Percentage': missing_pct\n",
        "})\n",
        "missing_df[missing_df['Missing_Count'] > 0]"
      ]
    },
    {
      "cell_type": "markdown",
      "metadata": {},
      "source": [
        "Convert numeric columns from string to float"
      ]
    },
    {
      "cell_type": "code",
      "execution_count": 12,
      "metadata": {},
      "outputs": [
        {
          "name": "stdout",
          "output_type": "stream",
          "text": [
            "✓ Converted Energy_consumption to numeric\n",
            "✓ Converted Energy_production to numeric\n",
            "✓ Converted GDP to numeric\n",
            "✓ Converted Population to numeric\n",
            "✓ Converted Energy_intensity_per_capita to numeric\n",
            "✓ Converted Energy_intensity_by_GDP to numeric\n",
            "✓ Converted CO2_emission to numeric\n"
          ]
        }
      ],
      "source": [
        "numeric_columns = ['Energy_consumption', 'Energy_production', 'GDP', 'Population', \n",
        "                   'Energy_intensity_per_capita', 'Energy_intensity_by_GDP', 'CO2_emission']\n",
        "\n",
        "for col in numeric_columns:\n",
        "    if col in df.columns:\n",
        "        df[col] = pd.to_numeric(df[col], errors='coerce')\n",
        "        print(f\"✓ Converted {col} to numeric\")"
      ]
    },
    {
      "cell_type": "markdown",
      "metadata": {},
      "source": [
        "Check Data Types"
      ]
    },
    {
      "cell_type": "code",
      "execution_count": 13,
      "metadata": {},
      "outputs": [
        {
          "data": {
            "text/plain": [
              "Country                         object\n",
              "Energy_type                     object\n",
              "Year                             int64\n",
              "Energy_consumption             float64\n",
              "Energy_production              float64\n",
              "GDP                            float64\n",
              "Population                     float64\n",
              "Energy_intensity_per_capita    float64\n",
              "Energy_intensity_by_GDP        float64\n",
              "CO2_emission                   float64\n",
              "dtype: object"
            ]
          },
          "execution_count": 13,
          "metadata": {},
          "output_type": "execute_result"
        }
      ],
      "source": [
        "df.dtypes"
      ]
    },
    {
      "cell_type": "markdown",
      "metadata": {},
      "source": [
        "Handle missing values\n",
        "- Fill numeric columns with 0 or median depending on context"
      ]
    },
    {
      "cell_type": "code",
      "execution_count": 14,
      "metadata": {},
      "outputs": [],
      "source": [
        "df['CO2_emission'] = df['CO2_emission'].fillna(0)\n",
        "df['Energy_intensity_by_GDP'] = df['Energy_intensity_by_GDP'].fillna(0)"
      ]
    },
    {
      "cell_type": "markdown",
      "metadata": {},
      "source": [
        "For other numeric columns, use forward fill then backward fill"
      ]
    },
    {
      "cell_type": "code",
      "execution_count": 15,
      "metadata": {},
      "outputs": [],
      "source": [
        "for col in numeric_columns:\n",
        "    if col in df.columns and df[col].isnull().sum() > 0:\n",
        "        df[col] = df.groupby(['Country', 'Energy_type'])[col].ffill().bfill()"
      ]
    },
    {
      "cell_type": "markdown",
      "metadata": {},
      "source": [
        "Remove duplicates"
      ]
    },
    {
      "cell_type": "code",
      "execution_count": 16,
      "metadata": {},
      "outputs": [
        {
          "name": "stdout",
          "output_type": "stream",
          "text": [
            "✓ Removed 0 duplicate rows\n"
          ]
        }
      ],
      "source": [
        "initial_rows = len(df)\n",
        "df = df.drop_duplicates()\n",
        "print(f\"✓ Removed {initial_rows - len(df)} duplicate rows\")"
      ]
    },
    {
      "cell_type": "markdown",
      "metadata": {},
      "source": [
        "Removes rows from DataFrame where the Energy_type column has the value 'all_energy_types' as these are the sum of all energy types."
      ]
    },
    {
      "cell_type": "code",
      "execution_count": 17,
      "metadata": {},
      "outputs": [
        {
          "name": "stdout",
          "output_type": "stream",
          "text": [
            "✓ Removed 9240 rows with 'all_energy_types' (aggregated data)\n"
          ]
        }
      ],
      "source": [
        "rows_before_filter = len(df)\n",
        "df = df[df['Energy_type'].str.lower() != 'all_energy_types']\n",
        "print(f\"✓ Removed {rows_before_filter - len(df)} rows with 'all_energy_types' (aggregated data)\")"
      ]
    },
    {
      "cell_type": "markdown",
      "metadata": {},
      "source": [
        "### Feature Engineering - Create additional features"
      ]
    },
    {
      "cell_type": "markdown",
      "metadata": {},
      "source": [
        "Decade column for trend analysis"
      ]
    },
    {
      "cell_type": "code",
      "execution_count": 21,
      "metadata": {},
      "outputs": [],
      "source": [
        "df['Decade'] = (df['Year'] // 10) * 10"
      ]
    },
    {
      "cell_type": "markdown",
      "metadata": {},
      "source": [
        "Energy balance (production - consumption)"
      ]
    },
    {
      "cell_type": "code",
      "execution_count": 22,
      "metadata": {},
      "outputs": [],
      "source": [
        "df['Energy_balance'] = df['Energy_production'] - df['Energy_consumption']"
      ]
    },
    {
      "cell_type": "markdown",
      "metadata": {},
      "source": [
        "Per capita CO2 emissions"
      ]
    },
    {
      "cell_type": "code",
      "execution_count": 23,
      "metadata": {},
      "outputs": [],
      "source": [
        "df['CO2_per_capita'] = df['CO2_emission'] / df['Population']\n",
        "df['CO2_per_capita'] = df['CO2_per_capita'].replace([np.inf, -np.inf], 0).fillna(0)"
      ]
    },
    {
      "cell_type": "markdown",
      "metadata": {},
      "source": [
        "Energy category\n",
        "Creates the Energy_category column in DataFrame with the following mappings:\n",
        "\n",
        "- \"coal\" → \"coal\"\n",
        "- \"natural_gas\" → \"natural gas\"\n",
        "- \"petroleum_n_other_liquids\" → \"petroleum\"\n",
        "- \"nuclear\" → \"nuclear\"\n",
        "- \"renewables_n_other\" → \"renewables\"\n",
        "- Any other value → \"Other\""
      ]
    },
    {
      "cell_type": "code",
      "execution_count": 24,
      "metadata": {},
      "outputs": [],
      "source": [
        "df['Energy_category'] = df['Energy_type'].apply(\n",
        "    lambda x: (\n",
        "        'coal' if str(x).lower() == 'coal' else\n",
        "        'natural gas' if str(x).lower() == 'natural_gas' else\n",
        "        'petroleum' if str(x).lower() == 'petroleum_n_other_liquids' else\n",
        "        'nuclear' if str(x).lower() == 'nuclear' else\n",
        "        'renewables' if str(x).lower() == 'renewables_n_other' else\n",
        "        'Other'\n",
        "    )\n",
        ")"
      ]
    }
  ],
  "metadata": {
    "accelerator": "GPU",
    "colab": {
      "name": "Data Practitioner Jupyter Notebook.ipynb",
      "provenance": [],
      "toc_visible": true
    },
    "kernelspec": {
      "display_name": ".venv",
      "language": "python",
      "name": "python3"
    },
    "language_info": {
      "codemirror_mode": {
        "name": "ipython",
        "version": 3
      },
      "file_extension": ".py",
      "mimetype": "text/x-python",
      "name": "python",
      "nbconvert_exporter": "python",
      "pygments_lexer": "ipython3",
      "version": "3.12.8"
    },
    "orig_nbformat": 2
  },
  "nbformat": 4,
  "nbformat_minor": 2
}
