{
 "cells": [
  {
   "cell_type": "markdown",
   "id": "4561a050",
   "metadata": {},
   "source": [
    "# Energy Consumption and CO2 Emissions Analysis\n",
    "## Statistical Analysis\n",
    "\n",
    "**Prerequisites:**\n",
    "- Completed notebook 01_data_exploration_and_cleaning.ipynb\n",
    "- Cleaned dataset: cleaned_energy_data.csv"
   ]
  },
  {
   "cell_type": "code",
   "execution_count": 1,
   "id": "4b51e45b",
   "metadata": {},
   "outputs": [],
   "source": [
    "import pandas as pd\n",
    "import numpy as np\n",
    "from scipy import stats\n",
    "import matplotlib.pyplot as plt\n",
    "import seaborn as sns"
   ]
  },
  {
   "cell_type": "markdown",
   "id": "049ddefc",
   "metadata": {},
   "source": [
    "## Load Cleaned Dataset"
   ]
  },
  {
   "cell_type": "code",
   "execution_count": 2,
   "id": "487d0689",
   "metadata": {},
   "outputs": [
    {
     "name": "stdout",
     "output_type": "stream",
     "text": [
      "New current directory: d:\\Code Institute\\Energy-Consumption-CO2-Emissions-Analysis\n"
     ]
    }
   ],
   "source": [
    "from pathlib import Path\n",
    "import os\n",
    "\n",
    "current_dir = Path.cwd()\n",
    "parent = current_dir.parent\n",
    "\n",
    "os.chdir(parent)\n",
    "current_dir = str(Path.cwd())   # update the variable so future code is consistent\n",
    "print(\"New current directory:\", current_dir)\n",
    "processed_file_path = current_dir+'\\\\dataset\\\\processed\\\\cleaned_energy_data.csv'\n",
    "df = pd.read_csv(processed_file_path)"
   ]
  },
  {
   "cell_type": "code",
   "execution_count": 3,
   "id": "bf2a52d6",
   "metadata": {},
   "outputs": [
    {
     "name": "stdout",
     "output_type": "stream",
     "text": [
      "Dataset loaded: 46,200 records\n",
      "Columns: 16\n",
      "\n",
      "Date range: 1980 - 2019\n",
      "Countries: 231\n",
      "Energy categories: 5\n"
     ]
    }
   ],
   "source": [
    "print(f\"Dataset loaded: {len(df):,} records\")\n",
    "print(f\"Columns: {len(df.columns)}\")\n",
    "print(f\"\\nDate range: {df['Year'].min()} - {df['Year'].max()}\")\n",
    "print(f\"Countries: {df['Country'].nunique()}\")\n",
    "print(f\"Energy categories: {df['Energy_category'].nunique()}\")"
   ]
  },
  {
   "cell_type": "markdown",
   "id": "86c47534",
   "metadata": {},
   "source": [
    "## Descriptive Statistics\n",
    "\n",
    "### Central Tendency Measures\n",
    "\n",
    "**Mean, Median, and Mode** help us understand the typical values in our dataset."
   ]
  },
  {
   "cell_type": "code",
   "execution_count": 5,
   "id": "9a4dd423",
   "metadata": {},
   "outputs": [
    {
     "name": "stdout",
     "output_type": "stream",
     "text": [
      "Descriptive Statistics:\n",
      "====================================================================================================\n",
      "          Energy_consumption  Energy_production         GDP   Population  \\\n",
      "Mean                   0.737              0.735     827.144    62630.205   \n",
      "Median                 0.000              0.000      47.757     6157.680   \n",
      "Std Dev                7.056              6.985    5981.718   456209.812   \n",
      "Min                   -0.163             -0.000       0.125       11.471   \n",
      "Max                  196.929            193.051  127690.247  7714631.064   \n",
      "Q1 (25%)               0.000              0.000       9.738     1141.950   \n",
      "Q3 (75%)               0.067              0.019     263.687    20042.900   \n",
      "\n",
      "          CO2_emission  \n",
      "Mean            44.017  \n",
      "Median           0.000  \n",
      "Std Dev        502.457  \n",
      "Min             -0.005  \n",
      "Max          16472.732  \n",
      "Q1 (25%)         0.000  \n",
      "Q3 (75%)         1.111  \n"
     ]
    }
   ],
   "source": [
    "# Calculate descriptive statistics for key variables\n",
    "variables = ['Energy_consumption', 'Energy_production', 'GDP', 'Population', 'CO2_emission']\n",
    "\n",
    "print(\"Descriptive Statistics:\")\n",
    "print(\"=\" * 100)\n",
    "\n",
    "stats_df = pd.DataFrame()\n",
    "for var in variables:\n",
    "    stats_df[var] = [\n",
    "        df[var].mean(),\n",
    "        df[var].median(),\n",
    "        df[var].std(),\n",
    "        df[var].min(),\n",
    "        df[var].max(),\n",
    "        df[var].quantile(0.25),\n",
    "        df[var].quantile(0.75)\n",
    "    ]\n",
    "\n",
    "stats_df.index = ['Mean', 'Median', 'Std Dev', 'Min', 'Max', 'Q1 (25%)', 'Q3 (75%)']\n",
    "print(stats_df.round(3))\n"
   ]
  },
  {
   "cell_type": "markdown",
   "id": "5e7c4735",
   "metadata": {},
   "source": [
    "Interpretation:\n",
    "- Mean > Median suggests right-skewed distribution (few very large values)\n",
    "- High standard deviation indicates high variability in the data\n",
    "- Large difference between Q3 and Max shows presence of outliers"
   ]
  }
 ],
 "metadata": {
  "kernelspec": {
   "display_name": ".venv",
   "language": "python",
   "name": "python3"
  },
  "language_info": {
   "codemirror_mode": {
    "name": "ipython",
    "version": 3
   },
   "file_extension": ".py",
   "mimetype": "text/x-python",
   "name": "python",
   "nbconvert_exporter": "python",
   "pygments_lexer": "ipython3",
   "version": "3.12.8"
  }
 },
 "nbformat": 4,
 "nbformat_minor": 5
}
