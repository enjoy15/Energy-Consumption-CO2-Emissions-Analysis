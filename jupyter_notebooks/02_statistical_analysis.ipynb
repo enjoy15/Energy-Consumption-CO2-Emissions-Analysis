{
 "cells": [
  {
   "cell_type": "markdown",
   "id": "4561a050",
   "metadata": {},
   "source": [
    "# Energy Consumption and CO2 Emissions Analysis\n",
    "## Statistical Analysis\n",
    "\n",
    "**Prerequisites:**\n",
    "- Completed notebook 01_data_exploration_and_cleaning.ipynb\n",
    "- Cleaned dataset: cleaned_energy_data.csv"
   ]
  },
  {
   "cell_type": "code",
   "execution_count": 1,
   "id": "4b51e45b",
   "metadata": {},
   "outputs": [],
   "source": [
    "import pandas as pd\n",
    "import numpy as np\n",
    "from scipy import stats\n",
    "import matplotlib.pyplot as plt\n",
    "import seaborn as sns"
   ]
  },
  {
   "cell_type": "markdown",
   "id": "049ddefc",
   "metadata": {},
   "source": [
    "## Load Cleaned Dataset"
   ]
  },
  {
   "cell_type": "code",
   "execution_count": 2,
   "id": "487d0689",
   "metadata": {},
   "outputs": [
    {
     "name": "stdout",
     "output_type": "stream",
     "text": [
      "New current directory: d:\\Code Institute\\Energy-Consumption-CO2-Emissions-Analysis\n"
     ]
    }
   ],
   "source": [
    "from pathlib import Path\n",
    "import os\n",
    "\n",
    "current_dir = Path.cwd()\n",
    "parent = current_dir.parent\n",
    "\n",
    "os.chdir(parent)\n",
    "current_dir = str(Path.cwd())   # update the variable so future code is consistent\n",
    "print(\"New current directory:\", current_dir)\n",
    "processed_file_path = current_dir+'\\\\dataset\\\\processed\\\\cleaned_energy_data.csv'\n",
    "df = pd.read_csv(processed_file_path)"
   ]
  },
  {
   "cell_type": "code",
   "execution_count": 3,
   "id": "bf2a52d6",
   "metadata": {},
   "outputs": [
    {
     "name": "stdout",
     "output_type": "stream",
     "text": [
      "Dataset loaded: 46,200 records\n",
      "Columns: 16\n",
      "\n",
      "Date range: 1980 - 2019\n",
      "Countries: 231\n",
      "Energy categories: 5\n"
     ]
    }
   ],
   "source": [
    "print(f\"Dataset loaded: {len(df):,} records\")\n",
    "print(f\"Columns: {len(df.columns)}\")\n",
    "print(f\"\\nDate range: {df['Year'].min()} - {df['Year'].max()}\")\n",
    "print(f\"Countries: {df['Country'].nunique()}\")\n",
    "print(f\"Energy categories: {df['Energy_category'].nunique()}\")"
   ]
  }
 ],
 "metadata": {
  "kernelspec": {
   "display_name": ".venv",
   "language": "python",
   "name": "python3"
  },
  "language_info": {
   "codemirror_mode": {
    "name": "ipython",
    "version": 3
   },
   "file_extension": ".py",
   "mimetype": "text/x-python",
   "name": "python",
   "nbconvert_exporter": "python",
   "pygments_lexer": "ipython3",
   "version": "3.12.8"
  }
 },
 "nbformat": 4,
 "nbformat_minor": 5
}
