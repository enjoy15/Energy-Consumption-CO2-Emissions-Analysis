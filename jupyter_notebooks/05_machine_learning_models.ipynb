{
 "cells": [
  {
   "cell_type": "markdown",
   "id": "580065cc",
   "metadata": {},
   "source": [
    "# Machine Learning Models for Energy Analytics\n",
    "\n",
    "## Overview\n",
    "This notebook implements three types of machine learning models to analyse energy consumption and CO₂ emissions:\n",
    "1. **Linear Regression** - Predicting energy consumption\n",
    "2. **K-Means Clustering** - Grouping countries by energy profiles\n",
    "3. **Decision Tree Classification** - Classifying energy categories\n",
    "\n",
    "## Learning Objectives\n",
    "- Understand supervised vs unsupervised learning\n",
    "- Implement regression, clustering, and classification models\n",
    "- Evaluate model performance using appropriate metrics\n",
    "- Interpret model results for business insights\n",
    "\n",
    "## Libraries Used\n",
    "- **scikit-learn**: Machine learning algorithms and tools\n",
    "- **pandas/numpy**: Data manipulation\n",
    "- **matplotlib/seaborn**: Visualisation"
   ]
  },
  {
   "cell_type": "code",
   "execution_count": 1,
   "id": "fdbcc756",
   "metadata": {},
   "outputs": [],
   "source": [
    "# Import required libraries\n",
    "import pandas as pd\n",
    "import numpy as np\n",
    "import matplotlib.pyplot as plt\n",
    "import seaborn as sns\n",
    "from sklearn.model_selection import train_test_split, cross_val_score\n",
    "from sklearn.preprocessing import StandardScaler, LabelEncoder\n",
    "from sklearn.linear_model import LinearRegression\n",
    "from sklearn.cluster import KMeans\n",
    "from sklearn.tree import DecisionTreeClassifier, plot_tree\n",
    "from sklearn.metrics import (mean_squared_error, r2_score, mean_absolute_error,\n",
    "                             silhouette_score, classification_report, confusion_matrix,\n",
    "                             accuracy_score)\n",
    "import warnings\n",
    "warnings.filterwarnings('ignore')\n",
    "\n",
    "# Set visualization style\n",
    "sns.set_style(\"whitegrid\")\n",
    "plt.rcParams['figure.figsize'] = (12, 6)"
   ]
  },
  {
   "cell_type": "markdown",
   "id": "a2095141",
   "metadata": {},
   "source": [
    "## 1. Load Cleaned Data"
   ]
  },
  {
   "cell_type": "code",
   "execution_count": 2,
   "id": "7f93332d",
   "metadata": {},
   "outputs": [
    {
     "name": "stdout",
     "output_type": "stream",
     "text": [
      "New current directory: d:\\Code Institute\\Energy-Consumption-CO2-Emissions-Analysis\n"
     ]
    }
   ],
   "source": [
    "from pathlib import Path\n",
    "import os\n",
    "\n",
    "current_dir = Path.cwd()\n",
    "parent = current_dir.parent\n",
    "\n",
    "os.chdir(parent)\n",
    "current_dir = str(Path.cwd())   # update the variable so future code is consistent\n",
    "print(\"New current directory:\", current_dir)\n",
    "processed_file_path = current_dir+'\\\\dataset\\\\processed\\\\cleaned_energy_data.csv'\n",
    "df = pd.read_csv(processed_file_path)"
   ]
  },
  {
   "cell_type": "code",
   "execution_count": 3,
   "id": "86ea9349",
   "metadata": {},
   "outputs": [
    {
     "name": "stdout",
     "output_type": "stream",
     "text": [
      "Dataset shape: (46000, 16)\n",
      "\n",
      "Columns: ['Country', 'Energy_type', 'Year', 'Energy_consumption', 'Energy_production', 'GDP', 'Population', 'Energy_intensity_per_capita', 'Energy_intensity_by_GDP', 'CO2_emission', 'Energy_category', 'Energy_balance', 'CO2_per_capita', 'Energy_efficiency', 'Decade', 'Energy_source_type']\n"
     ]
    },
    {
     "data": {
      "text/html": [
       "<div>\n",
       "<style scoped>\n",
       "    .dataframe tbody tr th:only-of-type {\n",
       "        vertical-align: middle;\n",
       "    }\n",
       "\n",
       "    .dataframe tbody tr th {\n",
       "        vertical-align: top;\n",
       "    }\n",
       "\n",
       "    .dataframe thead th {\n",
       "        text-align: right;\n",
       "    }\n",
       "</style>\n",
       "<table border=\"1\" class=\"dataframe\">\n",
       "  <thead>\n",
       "    <tr style=\"text-align: right;\">\n",
       "      <th></th>\n",
       "      <th>Country</th>\n",
       "      <th>Energy_type</th>\n",
       "      <th>Year</th>\n",
       "      <th>Energy_consumption</th>\n",
       "      <th>Energy_production</th>\n",
       "      <th>GDP</th>\n",
       "      <th>Population</th>\n",
       "      <th>Energy_intensity_per_capita</th>\n",
       "      <th>Energy_intensity_by_GDP</th>\n",
       "      <th>CO2_emission</th>\n",
       "      <th>Energy_category</th>\n",
       "      <th>Energy_balance</th>\n",
       "      <th>CO2_per_capita</th>\n",
       "      <th>Energy_efficiency</th>\n",
       "      <th>Decade</th>\n",
       "      <th>Energy_source_type</th>\n",
       "    </tr>\n",
       "  </thead>\n",
       "  <tbody>\n",
       "    <tr>\n",
       "      <th>0</th>\n",
       "      <td>Afghanistan</td>\n",
       "      <td>coal</td>\n",
       "      <td>1980</td>\n",
       "      <td>0.002479</td>\n",
       "      <td>0.002355</td>\n",
       "      <td>NaN</td>\n",
       "      <td>13356.5</td>\n",
       "      <td>1.990283</td>\n",
       "      <td>0.0</td>\n",
       "      <td>0.0</td>\n",
       "      <td>coal</td>\n",
       "      <td>-0.000124</td>\n",
       "      <td>0.0</td>\n",
       "      <td>NaN</td>\n",
       "      <td>1980</td>\n",
       "      <td>Fossil Fuel</td>\n",
       "    </tr>\n",
       "    <tr>\n",
       "      <th>1</th>\n",
       "      <td>Afghanistan</td>\n",
       "      <td>natural_gas</td>\n",
       "      <td>1980</td>\n",
       "      <td>0.002094</td>\n",
       "      <td>0.062820</td>\n",
       "      <td>NaN</td>\n",
       "      <td>13356.5</td>\n",
       "      <td>1.990283</td>\n",
       "      <td>0.0</td>\n",
       "      <td>0.0</td>\n",
       "      <td>natural gas</td>\n",
       "      <td>0.060726</td>\n",
       "      <td>0.0</td>\n",
       "      <td>NaN</td>\n",
       "      <td>1980</td>\n",
       "      <td>Fossil Fuel</td>\n",
       "    </tr>\n",
       "    <tr>\n",
       "      <th>2</th>\n",
       "      <td>Afghanistan</td>\n",
       "      <td>petroleum_n_other_liquids</td>\n",
       "      <td>1980</td>\n",
       "      <td>0.014624</td>\n",
       "      <td>0.000000</td>\n",
       "      <td>NaN</td>\n",
       "      <td>13356.5</td>\n",
       "      <td>1.990283</td>\n",
       "      <td>0.0</td>\n",
       "      <td>0.0</td>\n",
       "      <td>petroleum</td>\n",
       "      <td>-0.014624</td>\n",
       "      <td>0.0</td>\n",
       "      <td>NaN</td>\n",
       "      <td>1980</td>\n",
       "      <td>Fossil Fuel</td>\n",
       "    </tr>\n",
       "    <tr>\n",
       "      <th>3</th>\n",
       "      <td>Afghanistan</td>\n",
       "      <td>nuclear</td>\n",
       "      <td>1980</td>\n",
       "      <td>0.000000</td>\n",
       "      <td>0.000000</td>\n",
       "      <td>NaN</td>\n",
       "      <td>13356.5</td>\n",
       "      <td>1.990283</td>\n",
       "      <td>0.0</td>\n",
       "      <td>0.0</td>\n",
       "      <td>nuclear</td>\n",
       "      <td>0.000000</td>\n",
       "      <td>0.0</td>\n",
       "      <td>0.0</td>\n",
       "      <td>1980</td>\n",
       "      <td>Nuclear</td>\n",
       "    </tr>\n",
       "    <tr>\n",
       "      <th>4</th>\n",
       "      <td>Afghanistan</td>\n",
       "      <td>renewables_n_other</td>\n",
       "      <td>1980</td>\n",
       "      <td>0.007386</td>\n",
       "      <td>0.007386</td>\n",
       "      <td>NaN</td>\n",
       "      <td>13356.5</td>\n",
       "      <td>1.990283</td>\n",
       "      <td>0.0</td>\n",
       "      <td>0.0</td>\n",
       "      <td>renewables</td>\n",
       "      <td>0.000000</td>\n",
       "      <td>0.0</td>\n",
       "      <td>NaN</td>\n",
       "      <td>1980</td>\n",
       "      <td>Renewable</td>\n",
       "    </tr>\n",
       "  </tbody>\n",
       "</table>\n",
       "</div>"
      ],
      "text/plain": [
       "       Country                Energy_type  Year  Energy_consumption  \\\n",
       "0  Afghanistan                       coal  1980            0.002479   \n",
       "1  Afghanistan                natural_gas  1980            0.002094   \n",
       "2  Afghanistan  petroleum_n_other_liquids  1980            0.014624   \n",
       "3  Afghanistan                    nuclear  1980            0.000000   \n",
       "4  Afghanistan         renewables_n_other  1980            0.007386   \n",
       "\n",
       "   Energy_production  GDP  Population  Energy_intensity_per_capita  \\\n",
       "0           0.002355  NaN     13356.5                     1.990283   \n",
       "1           0.062820  NaN     13356.5                     1.990283   \n",
       "2           0.000000  NaN     13356.5                     1.990283   \n",
       "3           0.000000  NaN     13356.5                     1.990283   \n",
       "4           0.007386  NaN     13356.5                     1.990283   \n",
       "\n",
       "   Energy_intensity_by_GDP  CO2_emission Energy_category  Energy_balance  \\\n",
       "0                      0.0           0.0            coal       -0.000124   \n",
       "1                      0.0           0.0     natural gas        0.060726   \n",
       "2                      0.0           0.0       petroleum       -0.014624   \n",
       "3                      0.0           0.0         nuclear        0.000000   \n",
       "4                      0.0           0.0      renewables        0.000000   \n",
       "\n",
       "   CO2_per_capita  Energy_efficiency  Decade Energy_source_type  \n",
       "0             0.0                NaN    1980        Fossil Fuel  \n",
       "1             0.0                NaN    1980        Fossil Fuel  \n",
       "2             0.0                NaN    1980        Fossil Fuel  \n",
       "3             0.0                0.0    1980            Nuclear  \n",
       "4             0.0                NaN    1980          Renewable  "
      ]
     },
     "execution_count": 3,
     "metadata": {},
     "output_type": "execute_result"
    }
   ],
   "source": [
    "print(f\"Dataset shape: {df.shape}\")\n",
    "print(f\"\\nColumns: {df.columns.tolist()}\")\n",
    "df.head()"
   ]
  },
  {
   "cell_type": "markdown",
   "id": "5317ff61",
   "metadata": {},
   "source": [
    "## 2. Linear Regression - Predicting Energy Consumption\n",
    "\n",
    "### Objective\n",
    "Predict energy consumption based on GDP, Population, and Year.\n",
    "\n",
    "### Why Linear Regression?\n",
    "- Simple, interpretable model\n",
    "- Works well for continuous target variables\n",
    "- Provides insights into feature importance through coefficients"
   ]
  },
  {
   "cell_type": "code",
   "execution_count": 4,
   "id": "53727889",
   "metadata": {},
   "outputs": [
    {
     "name": "stdout",
     "output_type": "stream",
     "text": [
      "Dataset size: 33,155 records\n",
      "\n",
      "Training set: 26,524 samples\n",
      "Test set: 6,631 samples\n"
     ]
    }
   ],
   "source": [
    "# Prepare data for regression\n",
    "regression_df = df[['GDP', 'Population', 'Year', 'Energy_consumption']].dropna()\n",
    "print(f\"Dataset size: {len(regression_df):,} records\")\n",
    "\n",
    "# Features and target\n",
    "X_reg = regression_df[['GDP', 'Population', 'Year']]\n",
    "y_reg = regression_df['Energy_consumption']\n",
    "\n",
    "# Split data (80% train, 20% test)\n",
    "X_train_reg, X_test_reg, y_train_reg, y_test_reg = train_test_split(\n",
    "    X_reg, y_reg, test_size=0.2, random_state=42\n",
    ")\n",
    "\n",
    "print(f\"\\nTraining set: {len(X_train_reg):,} samples\")\n",
    "print(f\"Test set: {len(X_test_reg):,} samples\")"
   ]
  },
  {
   "cell_type": "code",
   "execution_count": 6,
   "id": "c4b3dc92",
   "metadata": {},
   "outputs": [
    {
     "name": "stdout",
     "output_type": "stream",
     "text": [
      "✓ Features scaled using StandardScaler\n",
      "\n",
      "Scaled feature means: [-2.94675392e-18 -1.63410899e-17 -7.20159869e-15]\n",
      "Scaled feature std devs: [1. 1. 1.]\n"
     ]
    }
   ],
   "source": [
    "# Scale features (important for many ML algorithms)\n",
    "scaler_reg = StandardScaler()\n",
    "X_train_reg_scaled = scaler_reg.fit_transform(X_train_reg)\n",
    "X_test_reg_scaled = scaler_reg.transform(X_test_reg)\n",
    "print(\"✓ Features scaled using StandardScaler\")\n",
    "print(f\"\\nScaled feature means: {X_train_reg_scaled.mean(axis=0)}\")\n",
    "print(f\"Scaled feature std devs: {X_train_reg_scaled.std(axis=0)}\")"
   ]
  }
 ],
 "metadata": {
  "kernelspec": {
   "display_name": ".venv",
   "language": "python",
   "name": "python3"
  },
  "language_info": {
   "codemirror_mode": {
    "name": "ipython",
    "version": 3
   },
   "file_extension": ".py",
   "mimetype": "text/x-python",
   "name": "python",
   "nbconvert_exporter": "python",
   "pygments_lexer": "ipython3",
   "version": "3.12.8"
  }
 },
 "nbformat": 4,
 "nbformat_minor": 5
}
