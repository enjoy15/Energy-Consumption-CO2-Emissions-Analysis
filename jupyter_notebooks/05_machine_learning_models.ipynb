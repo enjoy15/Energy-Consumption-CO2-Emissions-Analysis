{
 "cells": [
  {
   "cell_type": "markdown",
   "id": "580065cc",
   "metadata": {},
   "source": [
    "# Machine Learning Models for Energy Analytics\n",
    "\n",
    "## Overview\n",
    "This notebook implements three types of machine learning models to analyse energy consumption and CO₂ emissions:\n",
    "1. **Linear Regression** - Predicting energy consumption\n",
    "2. **K-Means Clustering** - Grouping countries by energy profiles\n",
    "3. **Decision Tree Classification** - Classifying energy categories\n",
    "\n",
    "## Learning Objectives\n",
    "- Understand supervised vs unsupervised learning\n",
    "- Implement regression, clustering, and classification models\n",
    "- Evaluate model performance using appropriate metrics\n",
    "- Interpret model results for business insights\n",
    "\n",
    "## Libraries Used\n",
    "- **scikit-learn**: Machine learning algorithms and tools\n",
    "- **pandas/numpy**: Data manipulation\n",
    "- **matplotlib/seaborn**: Visualisation"
   ]
  },
  {
   "cell_type": "code",
   "execution_count": 1,
   "id": "fdbcc756",
   "metadata": {},
   "outputs": [],
   "source": [
    "# Import required libraries\n",
    "import pandas as pd\n",
    "import numpy as np\n",
    "import matplotlib.pyplot as plt\n",
    "import seaborn as sns\n",
    "from sklearn.model_selection import train_test_split, cross_val_score\n",
    "from sklearn.preprocessing import StandardScaler, LabelEncoder\n",
    "from sklearn.linear_model import LinearRegression\n",
    "from sklearn.cluster import KMeans\n",
    "from sklearn.tree import DecisionTreeClassifier, plot_tree\n",
    "from sklearn.metrics import (mean_squared_error, r2_score, mean_absolute_error,\n",
    "                             silhouette_score, classification_report, confusion_matrix,\n",
    "                             accuracy_score)\n",
    "import warnings\n",
    "warnings.filterwarnings('ignore')\n",
    "\n",
    "# Set visualization style\n",
    "sns.set_style(\"whitegrid\")\n",
    "plt.rcParams['figure.figsize'] = (12, 6)"
   ]
  },
  {
   "cell_type": "markdown",
   "id": "a2095141",
   "metadata": {},
   "source": [
    "## 1. Load Cleaned Data"
   ]
  },
  {
   "cell_type": "code",
   "execution_count": null,
   "id": "7f93332d",
   "metadata": {},
   "outputs": [],
   "source": [
    "from pathlib import Path\n",
    "import os\n",
    "\n",
    "current_dir = Path.cwd()\n",
    "parent = current_dir.parent\n",
    "\n",
    "os.chdir(parent)\n",
    "current_dir = str(Path.cwd())   # update the variable so future code is consistent\n",
    "print(\"New current directory:\", current_dir)\n",
    "processed_file_path = current_dir+'\\\\dataset\\\\processed\\\\cleaned_energy_data.csv'\n",
    "df = pd.read_csv(processed_file_path)"
   ]
  }
 ],
 "metadata": {
  "kernelspec": {
   "display_name": ".venv",
   "language": "python",
   "name": "python3"
  },
  "language_info": {
   "codemirror_mode": {
    "name": "ipython",
    "version": 3
   },
   "file_extension": ".py",
   "mimetype": "text/x-python",
   "name": "python",
   "nbconvert_exporter": "python",
   "pygments_lexer": "ipython3",
   "version": "3.12.8"
  }
 },
 "nbformat": 4,
 "nbformat_minor": 5
}
