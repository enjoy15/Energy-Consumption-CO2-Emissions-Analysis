{
 "cells": [
  {
   "cell_type": "markdown",
   "id": "5d767802",
   "metadata": {},
   "source": [
    "# Data Visualisation and Exploratory Data Analysis (EDA)\n",
    "\n",
    "## Overview\n",
    "This notebook provides comprehensive data visualisation and exploratory data analysis of the global energy consumption and CO₂ emissions dataset. We'll use multiple visualisation libraries (Matplotlib, Seaborn, and Plotly) to create static and interactive visualisations.\n",
    "\n",
    "## Learning Objectives\n",
    "- Master different visualisation techniques for various data types\n",
    "- Understand when to use static vs interactive visualisations\n",
    "- Identify patterns, trends, and outliers through visual exploration\n",
    "- Communicate insights effectively through data visualisation\n",
    "\n",
    "## Libraries Used\n",
    "- **Matplotlib**: Static, publication-quality plots\n",
    "- **Seaborn**: Statistical visualisations with attractive defaults\n",
    "- **Plotly**: Interactive, web-based visualisations"
   ]
  },
  {
   "cell_type": "code",
   "execution_count": 1,
   "id": "e9edd0c0",
   "metadata": {},
   "outputs": [],
   "source": [
    "# Import required libraries\n",
    "import pandas as pd\n",
    "import numpy as np\n",
    "import matplotlib.pyplot as plt\n",
    "import seaborn as sns\n",
    "import plotly.express as px\n",
    "import plotly.graph_objects as go\n",
    "from plotly.subplots import make_subplots\n",
    "import warnings\n",
    "warnings.filterwarnings('ignore')\n",
    "\n",
    "# Set visualization styles\n",
    "sns.set_style(\"whitegrid\")\n",
    "plt.rcParams['figure.figsize'] = (12, 6)\n",
    "plt.rcParams['font.size'] = 10"
   ]
  },
  {
   "cell_type": "markdown",
   "id": "610abb75",
   "metadata": {},
   "source": [
    "## Load cleaned data"
   ]
  },
  {
   "cell_type": "markdown",
   "id": "efb517fb",
   "metadata": {},
   "source": [
    "We'll load the cleaned dataset that was prepared in the ETL pipeline."
   ]
  },
  {
   "cell_type": "code",
   "execution_count": 2,
   "id": "cb4de763",
   "metadata": {},
   "outputs": [
    {
     "name": "stdout",
     "output_type": "stream",
     "text": [
      "New current directory: d:\\Code Institute\\Energy-Consumption-CO2-Emissions-Analysis\n"
     ]
    },
    {
     "data": {
      "text/html": [
       "<div>\n",
       "<style scoped>\n",
       "    .dataframe tbody tr th:only-of-type {\n",
       "        vertical-align: middle;\n",
       "    }\n",
       "\n",
       "    .dataframe tbody tr th {\n",
       "        vertical-align: top;\n",
       "    }\n",
       "\n",
       "    .dataframe thead th {\n",
       "        text-align: right;\n",
       "    }\n",
       "</style>\n",
       "<table border=\"1\" class=\"dataframe\">\n",
       "  <thead>\n",
       "    <tr style=\"text-align: right;\">\n",
       "      <th></th>\n",
       "      <th>Country</th>\n",
       "      <th>Energy_type</th>\n",
       "      <th>Year</th>\n",
       "      <th>Energy_consumption</th>\n",
       "      <th>Energy_production</th>\n",
       "      <th>GDP</th>\n",
       "      <th>Population</th>\n",
       "      <th>Energy_intensity_per_capita</th>\n",
       "      <th>Energy_intensity_by_GDP</th>\n",
       "      <th>CO2_emission</th>\n",
       "      <th>Energy_category</th>\n",
       "      <th>Energy_balance</th>\n",
       "      <th>CO2_per_capita</th>\n",
       "      <th>Energy_efficiency</th>\n",
       "      <th>Decade</th>\n",
       "      <th>Energy_source_type</th>\n",
       "    </tr>\n",
       "  </thead>\n",
       "  <tbody>\n",
       "    <tr>\n",
       "      <th>0</th>\n",
       "      <td>World</td>\n",
       "      <td>coal</td>\n",
       "      <td>1980</td>\n",
       "      <td>78.656134</td>\n",
       "      <td>80.114194</td>\n",
       "      <td>27770.910281</td>\n",
       "      <td>4.298127e+06</td>\n",
       "      <td>68.145921</td>\n",
       "      <td>10.547</td>\n",
       "      <td>1409.790188</td>\n",
       "      <td>coal</td>\n",
       "      <td>1.458060</td>\n",
       "      <td>0.000328</td>\n",
       "      <td>353.067318</td>\n",
       "      <td>1980</td>\n",
       "      <td>Fossil Fuel</td>\n",
       "    </tr>\n",
       "    <tr>\n",
       "      <th>1</th>\n",
       "      <td>World</td>\n",
       "      <td>natural_gas</td>\n",
       "      <td>1980</td>\n",
       "      <td>53.865223</td>\n",
       "      <td>54.761046</td>\n",
       "      <td>27770.910281</td>\n",
       "      <td>4.298127e+06</td>\n",
       "      <td>68.145921</td>\n",
       "      <td>10.547</td>\n",
       "      <td>1081.593377</td>\n",
       "      <td>natural gas</td>\n",
       "      <td>0.895822</td>\n",
       "      <td>0.000252</td>\n",
       "      <td>515.562892</td>\n",
       "      <td>1980</td>\n",
       "      <td>Fossil Fuel</td>\n",
       "    </tr>\n",
       "    <tr>\n",
       "      <th>2</th>\n",
       "      <td>World</td>\n",
       "      <td>petroleum_n_other_liquids</td>\n",
       "      <td>1980</td>\n",
       "      <td>132.064019</td>\n",
       "      <td>133.111109</td>\n",
       "      <td>27770.910281</td>\n",
       "      <td>4.298127e+06</td>\n",
       "      <td>68.145921</td>\n",
       "      <td>10.547</td>\n",
       "      <td>2455.243565</td>\n",
       "      <td>petroleum</td>\n",
       "      <td>1.047089</td>\n",
       "      <td>0.000571</td>\n",
       "      <td>210.283697</td>\n",
       "      <td>1980</td>\n",
       "      <td>Fossil Fuel</td>\n",
       "    </tr>\n",
       "    <tr>\n",
       "      <th>3</th>\n",
       "      <td>World</td>\n",
       "      <td>nuclear</td>\n",
       "      <td>1980</td>\n",
       "      <td>7.575700</td>\n",
       "      <td>7.575700</td>\n",
       "      <td>27770.910281</td>\n",
       "      <td>4.298127e+06</td>\n",
       "      <td>68.145921</td>\n",
       "      <td>10.547</td>\n",
       "      <td>0.000000</td>\n",
       "      <td>nuclear</td>\n",
       "      <td>0.000000</td>\n",
       "      <td>0.000000</td>\n",
       "      <td>3665.787793</td>\n",
       "      <td>1980</td>\n",
       "      <td>Nuclear</td>\n",
       "    </tr>\n",
       "    <tr>\n",
       "      <th>4</th>\n",
       "      <td>World</td>\n",
       "      <td>renewables_n_other</td>\n",
       "      <td>1980</td>\n",
       "      <td>20.702344</td>\n",
       "      <td>20.775178</td>\n",
       "      <td>27770.910281</td>\n",
       "      <td>4.298127e+06</td>\n",
       "      <td>68.145921</td>\n",
       "      <td>10.547</td>\n",
       "      <td>0.000000</td>\n",
       "      <td>renewables</td>\n",
       "      <td>0.072834</td>\n",
       "      <td>0.000000</td>\n",
       "      <td>1341.437959</td>\n",
       "      <td>1980</td>\n",
       "      <td>Renewable</td>\n",
       "    </tr>\n",
       "  </tbody>\n",
       "</table>\n",
       "</div>"
      ],
      "text/plain": [
       "  Country                Energy_type  Year  Energy_consumption  \\\n",
       "0   World                       coal  1980           78.656134   \n",
       "1   World                natural_gas  1980           53.865223   \n",
       "2   World  petroleum_n_other_liquids  1980          132.064019   \n",
       "3   World                    nuclear  1980            7.575700   \n",
       "4   World         renewables_n_other  1980           20.702344   \n",
       "\n",
       "   Energy_production           GDP    Population  Energy_intensity_per_capita  \\\n",
       "0          80.114194  27770.910281  4.298127e+06                    68.145921   \n",
       "1          54.761046  27770.910281  4.298127e+06                    68.145921   \n",
       "2         133.111109  27770.910281  4.298127e+06                    68.145921   \n",
       "3           7.575700  27770.910281  4.298127e+06                    68.145921   \n",
       "4          20.775178  27770.910281  4.298127e+06                    68.145921   \n",
       "\n",
       "   Energy_intensity_by_GDP  CO2_emission Energy_category  Energy_balance  \\\n",
       "0                   10.547   1409.790188            coal        1.458060   \n",
       "1                   10.547   1081.593377     natural gas        0.895822   \n",
       "2                   10.547   2455.243565       petroleum        1.047089   \n",
       "3                   10.547      0.000000         nuclear        0.000000   \n",
       "4                   10.547      0.000000      renewables        0.072834   \n",
       "\n",
       "   CO2_per_capita  Energy_efficiency  Decade Energy_source_type  \n",
       "0        0.000328         353.067318    1980        Fossil Fuel  \n",
       "1        0.000252         515.562892    1980        Fossil Fuel  \n",
       "2        0.000571         210.283697    1980        Fossil Fuel  \n",
       "3        0.000000        3665.787793    1980            Nuclear  \n",
       "4        0.000000        1341.437959    1980          Renewable  "
      ]
     },
     "execution_count": 2,
     "metadata": {},
     "output_type": "execute_result"
    }
   ],
   "source": [
    "from pathlib import Path\n",
    "import os\n",
    "\n",
    "current_dir = Path.cwd()\n",
    "parent = current_dir.parent\n",
    "\n",
    "os.chdir(parent)\n",
    "current_dir = str(Path.cwd())   # update the variable so future code is consistent\n",
    "print(\"New current directory:\", current_dir)\n",
    "processed_file_path = current_dir+'\\\\dataset\\\\processed\\\\cleaned_energy_data.csv'\n",
    "df = pd.read_csv(processed_file_path)\n",
    "df.head()"
   ]
  },
  {
   "cell_type": "code",
   "execution_count": 3,
   "id": "0d937d0c",
   "metadata": {},
   "outputs": [
    {
     "name": "stdout",
     "output_type": "stream",
     "text": [
      "Dataset Summary:\n",
      "- Total records: 46,200\n",
      "- Countries: 231\n",
      "- Years covered: 1980 - 2019\n",
      "- Energy categories: ['coal' 'natural gas' 'petroleum' 'nuclear' 'renewables']\n",
      "\n",
      "Missing values:\n"
     ]
    },
    {
     "data": {
      "text/plain": [
       "Country                            0\n",
       "Energy_type                        0\n",
       "Year                               0\n",
       "Energy_consumption                 0\n",
       "Energy_production                  0\n",
       "GDP                            12845\n",
       "Population                      7855\n",
       "Energy_intensity_per_capita        0\n",
       "Energy_intensity_by_GDP            0\n",
       "CO2_emission                       0\n",
       "Energy_category                    0\n",
       "Energy_balance                     0\n",
       "CO2_per_capita                     0\n",
       "Energy_efficiency               3505\n",
       "Decade                             0\n",
       "Energy_source_type                 0\n",
       "dtype: int64"
      ]
     },
     "execution_count": 3,
     "metadata": {},
     "output_type": "execute_result"
    }
   ],
   "source": [
    "# Quick data summary\n",
    "print(\"Dataset Summary:\")\n",
    "print(f\"- Total records: {len(df):,}\")\n",
    "print(f\"- Countries: {df['Country'].nunique()}\")\n",
    "print(f\"- Years covered: {df['Year'].min()} - {df['Year'].max()}\")\n",
    "print(f\"- Energy categories: {df['Energy_category'].unique()}\")\n",
    "print(f\"\\nMissing values:\")\n",
    "df.isnull().sum()"
   ]
  },
  {
   "cell_type": "markdown",
   "id": "3e3477dc",
   "metadata": {},
   "source": [
    "## Matplotlib Visualisations"
   ]
  },
  {
   "cell_type": "markdown",
   "id": "befb860b",
   "metadata": {},
   "source": [
    "### Time Series: Global CO₂ Emissions Over Time"
   ]
  },
  {
   "cell_type": "code",
   "execution_count": 5,
   "id": "05c552b7",
   "metadata": {},
   "outputs": [
    {
     "data": {
      "image/png": "[encoded data removed]",
      "text/plain": [
       "<Figure size 1400x600 with 1 Axes>"
      ]
     },
     "metadata": {},
     "output_type": "display_data"
    }
   ],
   "source": [
    "# Aggregate CO2 emissions by year\n",
    "yearly_co2 = df.groupby('Year')['CO2_emission'].sum()\n",
    "\n",
    "# Create line plot\n",
    "plt.figure(figsize=(14, 6))\n",
    "plt.plot(yearly_co2.index, yearly_co2.values, linewidth=2, color='#e74c3c', marker='o', markersize=4)\n",
    "plt.title('Global CO₂ Emissions Over Time (1980-2020)', fontsize=16, fontweight='bold', pad=20)\n",
    "plt.xlabel('Year', fontsize=12)\n",
    "plt.ylabel('Total CO₂ Emissions', fontsize=12)\n",
    "plt.grid(True, alpha=0.3)\n",
    "plt.tight_layout()\n"
   ]
  }
 ],
 "metadata": {
  "kernelspec": {
   "display_name": ".venv",
   "language": "python",
   "name": "python3"
  },
  "language_info": {
   "codemirror_mode": {
    "name": "ipython",
    "version": 3
   },
   "file_extension": ".py",
   "mimetype": "text/x-python",
   "name": "python",
   "nbconvert_exporter": "python",
   "pygments_lexer": "ipython3",
   "version": "3.12.8"
  }
 },
 "nbformat": 4,
 "nbformat_minor": 5
}
