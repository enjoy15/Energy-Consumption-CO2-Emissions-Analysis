{
 "cells": [
  {
   "cell_type": "markdown",
   "id": "5d767802",
   "metadata": {},
   "source": [
    "# Data Visualisation and Exploratory Data Analysis (EDA)\n",
    "\n",
    "## Overview\n",
    "This notebook provides comprehensive data visualisation and exploratory data analysis of the global energy consumption and CO₂ emissions dataset. We'll use multiple visualisation libraries (Matplotlib, Seaborn, and Plotly) to create static and interactive visualisations.\n",
    "\n",
    "## Learning Objectives\n",
    "- Master different visualisation techniques for various data types\n",
    "- Understand when to use static vs interactive visualisations\n",
    "- Identify patterns, trends, and outliers through visual exploration\n",
    "- Communicate insights effectively through data visualisation\n",
    "\n",
    "## Libraries Used\n",
    "- **Matplotlib**: Static, publication-quality plots\n",
    "- **Seaborn**: Statistical visualisations with attractive defaults\n",
    "- **Plotly**: Interactive, web-based visualisations"
   ]
  },
  {
   "cell_type": "code",
   "execution_count": 1,
   "id": "e9edd0c0",
   "metadata": {},
   "outputs": [],
   "source": [
    "# Import required libraries\n",
    "import pandas as pd\n",
    "import numpy as np\n",
    "import matplotlib.pyplot as plt\n",
    "import seaborn as sns\n",
    "import plotly.express as px\n",
    "import plotly.graph_objects as go\n",
    "from plotly.subplots import make_subplots\n",
    "import warnings\n",
    "warnings.filterwarnings('ignore')\n",
    "\n",
    "# Set visualization styles\n",
    "sns.set_style(\"whitegrid\")\n",
    "plt.rcParams['figure.figsize'] = (12, 6)\n",
    "plt.rcParams['font.size'] = 10"
   ]
  }
 ],
 "metadata": {
  "kernelspec": {
   "display_name": ".venv",
   "language": "python",
   "name": "python3"
  },
  "language_info": {
   "codemirror_mode": {
    "name": "ipython",
    "version": 3
   },
   "file_extension": ".py",
   "mimetype": "text/x-python",
   "name": "python",
   "nbconvert_exporter": "python",
   "pygments_lexer": "ipython3",
   "version": "3.12.8"
  }
 },
 "nbformat": 4,
 "nbformat_minor": 5
}
