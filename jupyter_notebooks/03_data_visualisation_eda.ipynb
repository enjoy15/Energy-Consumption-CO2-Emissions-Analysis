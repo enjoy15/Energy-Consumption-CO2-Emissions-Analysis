{
 "cells": [
  {
   "cell_type": "markdown",
   "id": "5d767802",
   "metadata": {},
   "source": [
    "# Data Visualisation and Exploratory Data Analysis (EDA)\n",
    "\n",
    "## Overview\n",
    "This notebook provides comprehensive data visualisation and exploratory data analysis of the global energy consumption and CO₂ emissions dataset. We'll use multiple visualisation libraries (Matplotlib, Seaborn, and Plotly) to create static and interactive visualisations.\n",
    "\n",
    "## Learning Objectives\n",
    "- Master different visualisation techniques for various data types\n",
    "- Understand when to use static vs interactive visualisations\n",
    "- Identify patterns, trends, and outliers through visual exploration\n",
    "- Communicate insights effectively through data visualisation\n",
    "\n",
    "## Libraries Used\n",
    "- **Matplotlib**: Static, publication-quality plots\n",
    "- **Seaborn**: Statistical visualisations with attractive defaults\n",
    "- **Plotly**: Interactive, web-based visualisations"
   ]
  },
  {
   "cell_type": "code",
   "execution_count": 1,
   "id": "e9edd0c0",
   "metadata": {},
   "outputs": [],
   "source": [
    "# Import required libraries\n",
    "import pandas as pd\n",
    "import numpy as np\n",
    "import matplotlib.pyplot as plt\n",
    "import seaborn as sns\n",
    "import plotly.express as px\n",
    "import plotly.graph_objects as go\n",
    "from plotly.subplots import make_subplots\n",
    "import warnings\n",
    "warnings.filterwarnings('ignore')\n",
    "\n",
    "# Set visualization styles\n",
    "sns.set_style(\"whitegrid\")\n",
    "plt.rcParams['figure.figsize'] = (12, 6)\n",
    "plt.rcParams['font.size'] = 10"
   ]
  },
  {
   "cell_type": "markdown",
   "id": "610abb75",
   "metadata": {},
   "source": [
    "## Load cleaned data"
   ]
  },
  {
   "cell_type": "code",
   "execution_count": 2,
   "id": "cb4de763",
   "metadata": {},
   "outputs": [
    {
     "name": "stdout",
     "output_type": "stream",
     "text": [
      "New current directory: d:\\Code Institute\\Energy-Consumption-CO2-Emissions-Analysis\n"
     ]
    }
   ],
   "source": [
    "from pathlib import Path\n",
    "import os\n",
    "\n",
    "current_dir = Path.cwd()\n",
    "parent = current_dir.parent\n",
    "\n",
    "os.chdir(parent)\n",
    "current_dir = str(Path.cwd())   # update the variable so future code is consistent\n",
    "print(\"New current directory:\", current_dir)\n",
    "processed_file_path = current_dir+'\\\\dataset\\\\processed\\\\cleaned_energy_data.csv'\n",
    "df = pd.read_csv(processed_file_path)"
   ]
  }
 ],
 "metadata": {
  "kernelspec": {
   "display_name": ".venv",
   "language": "python",
   "name": "python3"
  },
  "language_info": {
   "codemirror_mode": {
    "name": "ipython",
    "version": 3
   },
   "file_extension": ".py",
   "mimetype": "text/x-python",
   "name": "python",
   "nbconvert_exporter": "python",
   "pygments_lexer": "ipython3",
   "version": "3.12.8"
  }
 },
 "nbformat": 4,
 "nbformat_minor": 5
}
